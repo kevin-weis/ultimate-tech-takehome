{
  "nbformat": 4,
  "nbformat_minor": 0,
  "metadata": {
    "colab": {
      "name": "takehome_predictivemodeling",
      "provenance": [],
      "machine_shape": "hm",
      "mount_file_id": "1kXrpPAmZV_HQZGAYN3PrjvgtPeIzIiMM",
      "authorship_tag": "ABX9TyMWJHH54bK1PlAJawIQgbOr",
      "include_colab_link": true
    },
    "kernelspec": {
      "name": "python3",
      "display_name": "Python 3"
    },
    "language_info": {
      "name": "python"
    }
  },
  "cells": [
    {
      "cell_type": "markdown",
      "metadata": {
        "id": "view-in-github",
        "colab_type": "text"
      },
      "source": [
        "<a href=\"https://colab.research.google.com/github/kevin-weis/ultimate-tech-takehome/blob/main/takehome_predictivemodeling.ipynb\" target=\"_parent\"><img src=\"https://colab.research.google.com/assets/colab-badge.svg\" alt=\"Open In Colab\"/></a>"
      ]
    },
    {
      "cell_type": "code",
      "metadata": {
        "id": "U-sqppuMaI7_"
      },
      "source": [
        "import pandas as pd\n",
        "import matplotlib.pyplot as plt\n",
        "import numpy as np\n",
        "import seaborn as sns\n",
        "import sklearn\n",
        "import json"
      ],
      "execution_count": 51,
      "outputs": []
    },
    {
      "cell_type": "code",
      "metadata": {
        "id": "RwZc4UsUai9M"
      },
      "source": [
        "ultimate_data_challenge = pd.read_json(\"/content/drive/MyDrive/ultimate_tech_takehome/ultimate_data_challenge.json\")\n",
        "df = pd.DataFrame(ultimate_data_challenge)"
      ],
      "execution_count": 2,
      "outputs": []
    },
    {
      "cell_type": "code",
      "metadata": {
        "colab": {
          "base_uri": "https://localhost:8080/",
          "height": 261
        },
        "id": "OUR3lq1GauMD",
        "outputId": "1cc4a0b1-e85d-465f-8de4-bab023251e76"
      },
      "source": [
        "df.head()"
      ],
      "execution_count": 3,
      "outputs": [
        {
          "output_type": "execute_result",
          "data": {
            "text/html": [
              "<div>\n",
              "<style scoped>\n",
              "    .dataframe tbody tr th:only-of-type {\n",
              "        vertical-align: middle;\n",
              "    }\n",
              "\n",
              "    .dataframe tbody tr th {\n",
              "        vertical-align: top;\n",
              "    }\n",
              "\n",
              "    .dataframe thead th {\n",
              "        text-align: right;\n",
              "    }\n",
              "</style>\n",
              "<table border=\"1\" class=\"dataframe\">\n",
              "  <thead>\n",
              "    <tr style=\"text-align: right;\">\n",
              "      <th></th>\n",
              "      <th>city</th>\n",
              "      <th>trips_in_first_30_days</th>\n",
              "      <th>signup_date</th>\n",
              "      <th>avg_rating_of_driver</th>\n",
              "      <th>avg_surge</th>\n",
              "      <th>last_trip_date</th>\n",
              "      <th>phone</th>\n",
              "      <th>surge_pct</th>\n",
              "      <th>ultimate_black_user</th>\n",
              "      <th>weekday_pct</th>\n",
              "      <th>avg_dist</th>\n",
              "      <th>avg_rating_by_driver</th>\n",
              "    </tr>\n",
              "  </thead>\n",
              "  <tbody>\n",
              "    <tr>\n",
              "      <th>0</th>\n",
              "      <td>King's Landing</td>\n",
              "      <td>4</td>\n",
              "      <td>2014-01-25</td>\n",
              "      <td>4.7</td>\n",
              "      <td>1.10</td>\n",
              "      <td>2014-06-17</td>\n",
              "      <td>iPhone</td>\n",
              "      <td>15.4</td>\n",
              "      <td>True</td>\n",
              "      <td>46.2</td>\n",
              "      <td>3.67</td>\n",
              "      <td>5.0</td>\n",
              "    </tr>\n",
              "    <tr>\n",
              "      <th>1</th>\n",
              "      <td>Astapor</td>\n",
              "      <td>0</td>\n",
              "      <td>2014-01-29</td>\n",
              "      <td>5.0</td>\n",
              "      <td>1.00</td>\n",
              "      <td>2014-05-05</td>\n",
              "      <td>Android</td>\n",
              "      <td>0.0</td>\n",
              "      <td>False</td>\n",
              "      <td>50.0</td>\n",
              "      <td>8.26</td>\n",
              "      <td>5.0</td>\n",
              "    </tr>\n",
              "    <tr>\n",
              "      <th>2</th>\n",
              "      <td>Astapor</td>\n",
              "      <td>3</td>\n",
              "      <td>2014-01-06</td>\n",
              "      <td>4.3</td>\n",
              "      <td>1.00</td>\n",
              "      <td>2014-01-07</td>\n",
              "      <td>iPhone</td>\n",
              "      <td>0.0</td>\n",
              "      <td>False</td>\n",
              "      <td>100.0</td>\n",
              "      <td>0.77</td>\n",
              "      <td>5.0</td>\n",
              "    </tr>\n",
              "    <tr>\n",
              "      <th>3</th>\n",
              "      <td>King's Landing</td>\n",
              "      <td>9</td>\n",
              "      <td>2014-01-10</td>\n",
              "      <td>4.6</td>\n",
              "      <td>1.14</td>\n",
              "      <td>2014-06-29</td>\n",
              "      <td>iPhone</td>\n",
              "      <td>20.0</td>\n",
              "      <td>True</td>\n",
              "      <td>80.0</td>\n",
              "      <td>2.36</td>\n",
              "      <td>4.9</td>\n",
              "    </tr>\n",
              "    <tr>\n",
              "      <th>4</th>\n",
              "      <td>Winterfell</td>\n",
              "      <td>14</td>\n",
              "      <td>2014-01-27</td>\n",
              "      <td>4.4</td>\n",
              "      <td>1.19</td>\n",
              "      <td>2014-03-15</td>\n",
              "      <td>Android</td>\n",
              "      <td>11.8</td>\n",
              "      <td>False</td>\n",
              "      <td>82.4</td>\n",
              "      <td>3.13</td>\n",
              "      <td>4.9</td>\n",
              "    </tr>\n",
              "  </tbody>\n",
              "</table>\n",
              "</div>"
            ],
            "text/plain": [
              "             city  trips_in_first_30_days  ... avg_dist  avg_rating_by_driver\n",
              "0  King's Landing                       4  ...     3.67                   5.0\n",
              "1         Astapor                       0  ...     8.26                   5.0\n",
              "2         Astapor                       3  ...     0.77                   5.0\n",
              "3  King's Landing                       9  ...     2.36                   4.9\n",
              "4      Winterfell                      14  ...     3.13                   4.9\n",
              "\n",
              "[5 rows x 12 columns]"
            ]
          },
          "metadata": {
            "tags": []
          },
          "execution_count": 3
        }
      ]
    },
    {
      "cell_type": "code",
      "metadata": {
        "colab": {
          "base_uri": "https://localhost:8080/"
        },
        "id": "80htqbIfavbm",
        "outputId": "fe06f0c5-fdc6-4607-a05e-01602bafe7a5"
      },
      "source": [
        "df.info()"
      ],
      "execution_count": 4,
      "outputs": [
        {
          "output_type": "stream",
          "text": [
            "<class 'pandas.core.frame.DataFrame'>\n",
            "RangeIndex: 50000 entries, 0 to 49999\n",
            "Data columns (total 12 columns):\n",
            " #   Column                  Non-Null Count  Dtype  \n",
            "---  ------                  --------------  -----  \n",
            " 0   city                    50000 non-null  object \n",
            " 1   trips_in_first_30_days  50000 non-null  int64  \n",
            " 2   signup_date             50000 non-null  object \n",
            " 3   avg_rating_of_driver    41878 non-null  float64\n",
            " 4   avg_surge               50000 non-null  float64\n",
            " 5   last_trip_date          50000 non-null  object \n",
            " 6   phone                   49604 non-null  object \n",
            " 7   surge_pct               50000 non-null  float64\n",
            " 8   ultimate_black_user     50000 non-null  bool   \n",
            " 9   weekday_pct             50000 non-null  float64\n",
            " 10  avg_dist                50000 non-null  float64\n",
            " 11  avg_rating_by_driver    49799 non-null  float64\n",
            "dtypes: bool(1), float64(6), int64(1), object(4)\n",
            "memory usage: 4.2+ MB\n"
          ],
          "name": "stdout"
        }
      ]
    },
    {
      "cell_type": "code",
      "metadata": {
        "colab": {
          "base_uri": "https://localhost:8080/"
        },
        "id": "lg49Z_hvawUN",
        "outputId": "70c45058-ea4e-400d-87e0-e5c3f2d03487"
      },
      "source": [
        "df.columns"
      ],
      "execution_count": 5,
      "outputs": [
        {
          "output_type": "execute_result",
          "data": {
            "text/plain": [
              "Index(['city', 'trips_in_first_30_days', 'signup_date', 'avg_rating_of_driver',\n",
              "       'avg_surge', 'last_trip_date', 'phone', 'surge_pct',\n",
              "       'ultimate_black_user', 'weekday_pct', 'avg_dist',\n",
              "       'avg_rating_by_driver'],\n",
              "      dtype='object')"
            ]
          },
          "metadata": {
            "tags": []
          },
          "execution_count": 5
        }
      ]
    },
    {
      "cell_type": "code",
      "metadata": {
        "colab": {
          "base_uri": "https://localhost:8080/",
          "height": 320
        },
        "id": "1v_Kdr7AaxPz",
        "outputId": "7871f354-432a-4ea7-d173-e792082706d0"
      },
      "source": [
        "df.describe()"
      ],
      "execution_count": 6,
      "outputs": [
        {
          "output_type": "execute_result",
          "data": {
            "text/html": [
              "<div>\n",
              "<style scoped>\n",
              "    .dataframe tbody tr th:only-of-type {\n",
              "        vertical-align: middle;\n",
              "    }\n",
              "\n",
              "    .dataframe tbody tr th {\n",
              "        vertical-align: top;\n",
              "    }\n",
              "\n",
              "    .dataframe thead th {\n",
              "        text-align: right;\n",
              "    }\n",
              "</style>\n",
              "<table border=\"1\" class=\"dataframe\">\n",
              "  <thead>\n",
              "    <tr style=\"text-align: right;\">\n",
              "      <th></th>\n",
              "      <th>trips_in_first_30_days</th>\n",
              "      <th>avg_rating_of_driver</th>\n",
              "      <th>avg_surge</th>\n",
              "      <th>surge_pct</th>\n",
              "      <th>weekday_pct</th>\n",
              "      <th>avg_dist</th>\n",
              "      <th>avg_rating_by_driver</th>\n",
              "    </tr>\n",
              "  </thead>\n",
              "  <tbody>\n",
              "    <tr>\n",
              "      <th>count</th>\n",
              "      <td>50000.000000</td>\n",
              "      <td>41878.000000</td>\n",
              "      <td>50000.000000</td>\n",
              "      <td>50000.000000</td>\n",
              "      <td>50000.000000</td>\n",
              "      <td>50000.000000</td>\n",
              "      <td>49799.000000</td>\n",
              "    </tr>\n",
              "    <tr>\n",
              "      <th>mean</th>\n",
              "      <td>2.278200</td>\n",
              "      <td>4.601559</td>\n",
              "      <td>1.074764</td>\n",
              "      <td>8.849536</td>\n",
              "      <td>60.926084</td>\n",
              "      <td>5.796827</td>\n",
              "      <td>4.778158</td>\n",
              "    </tr>\n",
              "    <tr>\n",
              "      <th>std</th>\n",
              "      <td>3.792684</td>\n",
              "      <td>0.617338</td>\n",
              "      <td>0.222336</td>\n",
              "      <td>19.958811</td>\n",
              "      <td>37.081503</td>\n",
              "      <td>5.707357</td>\n",
              "      <td>0.446652</td>\n",
              "    </tr>\n",
              "    <tr>\n",
              "      <th>min</th>\n",
              "      <td>0.000000</td>\n",
              "      <td>1.000000</td>\n",
              "      <td>1.000000</td>\n",
              "      <td>0.000000</td>\n",
              "      <td>0.000000</td>\n",
              "      <td>0.000000</td>\n",
              "      <td>1.000000</td>\n",
              "    </tr>\n",
              "    <tr>\n",
              "      <th>25%</th>\n",
              "      <td>0.000000</td>\n",
              "      <td>4.300000</td>\n",
              "      <td>1.000000</td>\n",
              "      <td>0.000000</td>\n",
              "      <td>33.300000</td>\n",
              "      <td>2.420000</td>\n",
              "      <td>4.700000</td>\n",
              "    </tr>\n",
              "    <tr>\n",
              "      <th>50%</th>\n",
              "      <td>1.000000</td>\n",
              "      <td>4.900000</td>\n",
              "      <td>1.000000</td>\n",
              "      <td>0.000000</td>\n",
              "      <td>66.700000</td>\n",
              "      <td>3.880000</td>\n",
              "      <td>5.000000</td>\n",
              "    </tr>\n",
              "    <tr>\n",
              "      <th>75%</th>\n",
              "      <td>3.000000</td>\n",
              "      <td>5.000000</td>\n",
              "      <td>1.050000</td>\n",
              "      <td>8.600000</td>\n",
              "      <td>100.000000</td>\n",
              "      <td>6.940000</td>\n",
              "      <td>5.000000</td>\n",
              "    </tr>\n",
              "    <tr>\n",
              "      <th>max</th>\n",
              "      <td>125.000000</td>\n",
              "      <td>5.000000</td>\n",
              "      <td>8.000000</td>\n",
              "      <td>100.000000</td>\n",
              "      <td>100.000000</td>\n",
              "      <td>160.960000</td>\n",
              "      <td>5.000000</td>\n",
              "    </tr>\n",
              "  </tbody>\n",
              "</table>\n",
              "</div>"
            ],
            "text/plain": [
              "       trips_in_first_30_days  ...  avg_rating_by_driver\n",
              "count            50000.000000  ...          49799.000000\n",
              "mean                 2.278200  ...              4.778158\n",
              "std                  3.792684  ...              0.446652\n",
              "min                  0.000000  ...              1.000000\n",
              "25%                  0.000000  ...              4.700000\n",
              "50%                  1.000000  ...              5.000000\n",
              "75%                  3.000000  ...              5.000000\n",
              "max                125.000000  ...              5.000000\n",
              "\n",
              "[8 rows x 7 columns]"
            ]
          },
          "metadata": {
            "tags": []
          },
          "execution_count": 6
        }
      ]
    },
    {
      "cell_type": "code",
      "metadata": {
        "id": "PTaz9E9-a6Hj"
      },
      "source": [
        "df['last_trip_date'] = pd.to_datetime(df['last_trip_date'])\n",
        "df['signup_date'] = pd.to_datetime(df['signup_date'])"
      ],
      "execution_count": 7,
      "outputs": []
    },
    {
      "cell_type": "code",
      "metadata": {
        "colab": {
          "base_uri": "https://localhost:8080/"
        },
        "id": "1G-43roqjj5d",
        "outputId": "ebdcca13-1267-4ef4-d449-f0880501bb73"
      },
      "source": [
        "df.info()"
      ],
      "execution_count": 8,
      "outputs": [
        {
          "output_type": "stream",
          "text": [
            "<class 'pandas.core.frame.DataFrame'>\n",
            "RangeIndex: 50000 entries, 0 to 49999\n",
            "Data columns (total 12 columns):\n",
            " #   Column                  Non-Null Count  Dtype         \n",
            "---  ------                  --------------  -----         \n",
            " 0   city                    50000 non-null  object        \n",
            " 1   trips_in_first_30_days  50000 non-null  int64         \n",
            " 2   signup_date             50000 non-null  datetime64[ns]\n",
            " 3   avg_rating_of_driver    41878 non-null  float64       \n",
            " 4   avg_surge               50000 non-null  float64       \n",
            " 5   last_trip_date          50000 non-null  datetime64[ns]\n",
            " 6   phone                   49604 non-null  object        \n",
            " 7   surge_pct               50000 non-null  float64       \n",
            " 8   ultimate_black_user     50000 non-null  bool          \n",
            " 9   weekday_pct             50000 non-null  float64       \n",
            " 10  avg_dist                50000 non-null  float64       \n",
            " 11  avg_rating_by_driver    49799 non-null  float64       \n",
            "dtypes: bool(1), datetime64[ns](2), float64(6), int64(1), object(2)\n",
            "memory usage: 4.2+ MB\n"
          ],
          "name": "stdout"
        }
      ]
    },
    {
      "cell_type": "code",
      "metadata": {
        "colab": {
          "base_uri": "https://localhost:8080/"
        },
        "id": "S0XAnn4GjmTr",
        "outputId": "a5de48d8-d422-4c74-8927-be9fe4e9021f"
      },
      "source": [
        "df.last_trip_date.describe()"
      ],
      "execution_count": 9,
      "outputs": [
        {
          "output_type": "stream",
          "text": [
            "/usr/local/lib/python3.7/dist-packages/ipykernel_launcher.py:1: FutureWarning: Treating datetime data as categorical rather than numeric in `.describe` is deprecated and will be removed in a future version of pandas. Specify `datetime_is_numeric=True` to silence this warning and adopt the future behavior now.\n",
            "  \"\"\"Entry point for launching an IPython kernel.\n"
          ],
          "name": "stderr"
        },
        {
          "output_type": "execute_result",
          "data": {
            "text/plain": [
              "count                   50000\n",
              "unique                    182\n",
              "top       2014-06-29 00:00:00\n",
              "freq                     2036\n",
              "first     2014-01-01 00:00:00\n",
              "last      2014-07-01 00:00:00\n",
              "Name: last_trip_date, dtype: object"
            ]
          },
          "metadata": {
            "tags": []
          },
          "execution_count": 9
        }
      ]
    },
    {
      "cell_type": "code",
      "metadata": {
        "colab": {
          "base_uri": "https://localhost:8080/"
        },
        "id": "37rs0_-OjqfM",
        "outputId": "f6b2b49b-1e6f-46b8-cf51-25fba0664bce"
      },
      "source": [
        "df.signup_date.describe()"
      ],
      "execution_count": 10,
      "outputs": [
        {
          "output_type": "stream",
          "text": [
            "/usr/local/lib/python3.7/dist-packages/ipykernel_launcher.py:1: FutureWarning: Treating datetime data as categorical rather than numeric in `.describe` is deprecated and will be removed in a future version of pandas. Specify `datetime_is_numeric=True` to silence this warning and adopt the future behavior now.\n",
            "  \"\"\"Entry point for launching an IPython kernel.\n"
          ],
          "name": "stderr"
        },
        {
          "output_type": "execute_result",
          "data": {
            "text/plain": [
              "count                   50000\n",
              "unique                     31\n",
              "top       2014-01-18 00:00:00\n",
              "freq                     2948\n",
              "first     2014-01-01 00:00:00\n",
              "last      2014-01-31 00:00:00\n",
              "Name: signup_date, dtype: object"
            ]
          },
          "metadata": {
            "tags": []
          },
          "execution_count": 10
        }
      ]
    },
    {
      "cell_type": "code",
      "metadata": {
        "colab": {
          "base_uri": "https://localhost:8080/"
        },
        "id": "QujRt4cWjxDN",
        "outputId": "0dce0954-e54d-4434-b11e-297320542603"
      },
      "source": [
        "fraction_retained = (df.last_trip_date >= '2014-06-01').sum() / (df.last_trip_date >= ' 2014-06-01').count()\n",
        "fraction_retained"
      ],
      "execution_count": 11,
      "outputs": [
        {
          "output_type": "execute_result",
          "data": {
            "text/plain": [
              "0.37608"
            ]
          },
          "metadata": {
            "tags": []
          },
          "execution_count": 11
        }
      ]
    },
    {
      "cell_type": "code",
      "metadata": {
        "colab": {
          "base_uri": "https://localhost:8080/",
          "height": 320
        },
        "id": "d1OMmhpQkNdd",
        "outputId": "7bc39019-f512-4d40-a779-94e5a4254c1e"
      },
      "source": [
        "df['was_retained'] = (df.last_trip_date >= '2014-06-01')*1\n",
        "df.describe()"
      ],
      "execution_count": 12,
      "outputs": [
        {
          "output_type": "execute_result",
          "data": {
            "text/html": [
              "<div>\n",
              "<style scoped>\n",
              "    .dataframe tbody tr th:only-of-type {\n",
              "        vertical-align: middle;\n",
              "    }\n",
              "\n",
              "    .dataframe tbody tr th {\n",
              "        vertical-align: top;\n",
              "    }\n",
              "\n",
              "    .dataframe thead th {\n",
              "        text-align: right;\n",
              "    }\n",
              "</style>\n",
              "<table border=\"1\" class=\"dataframe\">\n",
              "  <thead>\n",
              "    <tr style=\"text-align: right;\">\n",
              "      <th></th>\n",
              "      <th>trips_in_first_30_days</th>\n",
              "      <th>avg_rating_of_driver</th>\n",
              "      <th>avg_surge</th>\n",
              "      <th>surge_pct</th>\n",
              "      <th>weekday_pct</th>\n",
              "      <th>avg_dist</th>\n",
              "      <th>avg_rating_by_driver</th>\n",
              "      <th>was_retained</th>\n",
              "    </tr>\n",
              "  </thead>\n",
              "  <tbody>\n",
              "    <tr>\n",
              "      <th>count</th>\n",
              "      <td>50000.000000</td>\n",
              "      <td>41878.000000</td>\n",
              "      <td>50000.000000</td>\n",
              "      <td>50000.000000</td>\n",
              "      <td>50000.000000</td>\n",
              "      <td>50000.000000</td>\n",
              "      <td>49799.000000</td>\n",
              "      <td>50000.000000</td>\n",
              "    </tr>\n",
              "    <tr>\n",
              "      <th>mean</th>\n",
              "      <td>2.278200</td>\n",
              "      <td>4.601559</td>\n",
              "      <td>1.074764</td>\n",
              "      <td>8.849536</td>\n",
              "      <td>60.926084</td>\n",
              "      <td>5.796827</td>\n",
              "      <td>4.778158</td>\n",
              "      <td>0.376080</td>\n",
              "    </tr>\n",
              "    <tr>\n",
              "      <th>std</th>\n",
              "      <td>3.792684</td>\n",
              "      <td>0.617338</td>\n",
              "      <td>0.222336</td>\n",
              "      <td>19.958811</td>\n",
              "      <td>37.081503</td>\n",
              "      <td>5.707357</td>\n",
              "      <td>0.446652</td>\n",
              "      <td>0.484405</td>\n",
              "    </tr>\n",
              "    <tr>\n",
              "      <th>min</th>\n",
              "      <td>0.000000</td>\n",
              "      <td>1.000000</td>\n",
              "      <td>1.000000</td>\n",
              "      <td>0.000000</td>\n",
              "      <td>0.000000</td>\n",
              "      <td>0.000000</td>\n",
              "      <td>1.000000</td>\n",
              "      <td>0.000000</td>\n",
              "    </tr>\n",
              "    <tr>\n",
              "      <th>25%</th>\n",
              "      <td>0.000000</td>\n",
              "      <td>4.300000</td>\n",
              "      <td>1.000000</td>\n",
              "      <td>0.000000</td>\n",
              "      <td>33.300000</td>\n",
              "      <td>2.420000</td>\n",
              "      <td>4.700000</td>\n",
              "      <td>0.000000</td>\n",
              "    </tr>\n",
              "    <tr>\n",
              "      <th>50%</th>\n",
              "      <td>1.000000</td>\n",
              "      <td>4.900000</td>\n",
              "      <td>1.000000</td>\n",
              "      <td>0.000000</td>\n",
              "      <td>66.700000</td>\n",
              "      <td>3.880000</td>\n",
              "      <td>5.000000</td>\n",
              "      <td>0.000000</td>\n",
              "    </tr>\n",
              "    <tr>\n",
              "      <th>75%</th>\n",
              "      <td>3.000000</td>\n",
              "      <td>5.000000</td>\n",
              "      <td>1.050000</td>\n",
              "      <td>8.600000</td>\n",
              "      <td>100.000000</td>\n",
              "      <td>6.940000</td>\n",
              "      <td>5.000000</td>\n",
              "      <td>1.000000</td>\n",
              "    </tr>\n",
              "    <tr>\n",
              "      <th>max</th>\n",
              "      <td>125.000000</td>\n",
              "      <td>5.000000</td>\n",
              "      <td>8.000000</td>\n",
              "      <td>100.000000</td>\n",
              "      <td>100.000000</td>\n",
              "      <td>160.960000</td>\n",
              "      <td>5.000000</td>\n",
              "      <td>1.000000</td>\n",
              "    </tr>\n",
              "  </tbody>\n",
              "</table>\n",
              "</div>"
            ],
            "text/plain": [
              "       trips_in_first_30_days  ...  was_retained\n",
              "count            50000.000000  ...  50000.000000\n",
              "mean                 2.278200  ...      0.376080\n",
              "std                  3.792684  ...      0.484405\n",
              "min                  0.000000  ...      0.000000\n",
              "25%                  0.000000  ...      0.000000\n",
              "50%                  1.000000  ...      0.000000\n",
              "75%                  3.000000  ...      1.000000\n",
              "max                125.000000  ...      1.000000\n",
              "\n",
              "[8 rows x 8 columns]"
            ]
          },
          "metadata": {
            "tags": []
          },
          "execution_count": 12
        }
      ]
    },
    {
      "cell_type": "code",
      "metadata": {
        "colab": {
          "base_uri": "https://localhost:8080/",
          "height": 384
        },
        "id": "fu-exLsDkTzA",
        "outputId": "6cbf57d0-100b-4258-b2aa-b451e5503551"
      },
      "source": [
        "sns.heatmap(df.corr())"
      ],
      "execution_count": 13,
      "outputs": [
        {
          "output_type": "execute_result",
          "data": {
            "text/plain": [
              "<matplotlib.axes._subplots.AxesSubplot at 0x7fe4af30b710>"
            ]
          },
          "metadata": {
            "tags": []
          },
          "execution_count": 13
        },
        {
          "output_type": "display_data",
          "data": {
            "image/png": "[encoded data removed]",
            "text/plain": [
              "<Figure size 432x288 with 2 Axes>"
            ]
          },
          "metadata": {
            "tags": [],
            "needs_background": "light"
          }
        }
      ]
    },
    {
      "cell_type": "code",
      "metadata": {
        "colab": {
          "base_uri": "https://localhost:8080/"
        },
        "id": "yqSmMCf4ka7Y",
        "outputId": "9af8c4ca-29d7-4bb7-bb73-a33a4ad66984"
      },
      "source": [
        "corr = df.corr()\n",
        "corr['was_retained'].sort_values(ascending=False)"
      ],
      "execution_count": 14,
      "outputs": [
        {
          "output_type": "execute_result",
          "data": {
            "text/plain": [
              "was_retained              1.000000\n",
              "trips_in_first_30_days    0.210463\n",
              "ultimate_black_user       0.205002\n",
              "surge_pct                 0.011797\n",
              "weekday_pct               0.009693\n",
              "avg_surge                -0.003333\n",
              "avg_rating_of_driver     -0.011653\n",
              "avg_rating_by_driver     -0.026791\n",
              "avg_dist                 -0.092780\n",
              "Name: was_retained, dtype: float64"
            ]
          },
          "metadata": {
            "tags": []
          },
          "execution_count": 14
        }
      ]
    },
    {
      "cell_type": "code",
      "metadata": {
        "colab": {
          "base_uri": "https://localhost:8080/"
        },
        "id": "uux-cFypkjEF",
        "outputId": "b177799d-95cf-4f5b-ce98-e6b3d87db936"
      },
      "source": [
        "df.city.value_counts()"
      ],
      "execution_count": 15,
      "outputs": [
        {
          "output_type": "execute_result",
          "data": {
            "text/plain": [
              "Winterfell        23336\n",
              "Astapor           16534\n",
              "King's Landing    10130\n",
              "Name: city, dtype: int64"
            ]
          },
          "metadata": {
            "tags": []
          },
          "execution_count": 15
        }
      ]
    },
    {
      "cell_type": "code",
      "metadata": {
        "colab": {
          "base_uri": "https://localhost:8080/"
        },
        "id": "tZCRUFPbkycL",
        "outputId": "f305dc46-0efe-4115-8c4d-31c97efdc0df"
      },
      "source": [
        "df.phone.value_counts()"
      ],
      "execution_count": 16,
      "outputs": [
        {
          "output_type": "execute_result",
          "data": {
            "text/plain": [
              "iPhone     34582\n",
              "Android    15022\n",
              "Name: phone, dtype: int64"
            ]
          },
          "metadata": {
            "tags": []
          },
          "execution_count": 16
        }
      ]
    },
    {
      "cell_type": "code",
      "metadata": {
        "colab": {
          "base_uri": "https://localhost:8080/"
        },
        "id": "CAjJ6Eh7kzuK",
        "outputId": "57418407-8caa-4d5d-a0cd-4bc632da9075"
      },
      "source": [
        "df.phone.isnull().sum()"
      ],
      "execution_count": 17,
      "outputs": [
        {
          "output_type": "execute_result",
          "data": {
            "text/plain": [
              "396"
            ]
          },
          "metadata": {
            "tags": []
          },
          "execution_count": 17
        }
      ]
    },
    {
      "cell_type": "code",
      "metadata": {
        "colab": {
          "base_uri": "https://localhost:8080/"
        },
        "id": "-PAnxLiLk6HP",
        "outputId": "aef8c71d-766e-42f3-b075-34704a9c4fad"
      },
      "source": [
        "df.phone.fillna(\"Other\", inplace=True)\n",
        "df.phone.value_counts()"
      ],
      "execution_count": 18,
      "outputs": [
        {
          "output_type": "execute_result",
          "data": {
            "text/plain": [
              "iPhone     34582\n",
              "Android    15022\n",
              "Other        396\n",
              "Name: phone, dtype: int64"
            ]
          },
          "metadata": {
            "tags": []
          },
          "execution_count": 18
        }
      ]
    },
    {
      "cell_type": "code",
      "metadata": {
        "id": "wQx690GqlLdT"
      },
      "source": [
        "cities_onehot = pd.get_dummies(df['city'])\n",
        "phones_onehot = pd.get_dummies(df['phone'])"
      ],
      "execution_count": 19,
      "outputs": []
    },
    {
      "cell_type": "code",
      "metadata": {
        "id": "CtLrbn_Jv_mi"
      },
      "source": [
        "df = df.join(cities_onehot).join(phones_onehot)\n",
        "df.drop(['city', 'phone'], axis=1, inplace=True)"
      ],
      "execution_count": 20,
      "outputs": []
    },
    {
      "cell_type": "code",
      "metadata": {
        "colab": {
          "base_uri": "https://localhost:8080/",
          "height": 337
        },
        "id": "LYvWmmcXwFSq",
        "outputId": "d3ab606c-e586-4504-f323-b45cd8cc5a0d"
      },
      "source": [
        "df.describe()"
      ],
      "execution_count": 21,
      "outputs": [
        {
          "output_type": "execute_result",
          "data": {
            "text/html": [
              "<div>\n",
              "<style scoped>\n",
              "    .dataframe tbody tr th:only-of-type {\n",
              "        vertical-align: middle;\n",
              "    }\n",
              "\n",
              "    .dataframe tbody tr th {\n",
              "        vertical-align: top;\n",
              "    }\n",
              "\n",
              "    .dataframe thead th {\n",
              "        text-align: right;\n",
              "    }\n",
              "</style>\n",
              "<table border=\"1\" class=\"dataframe\">\n",
              "  <thead>\n",
              "    <tr style=\"text-align: right;\">\n",
              "      <th></th>\n",
              "      <th>trips_in_first_30_days</th>\n",
              "      <th>avg_rating_of_driver</th>\n",
              "      <th>avg_surge</th>\n",
              "      <th>surge_pct</th>\n",
              "      <th>weekday_pct</th>\n",
              "      <th>avg_dist</th>\n",
              "      <th>avg_rating_by_driver</th>\n",
              "      <th>was_retained</th>\n",
              "      <th>Astapor</th>\n",
              "      <th>King's Landing</th>\n",
              "      <th>Winterfell</th>\n",
              "      <th>Android</th>\n",
              "      <th>Other</th>\n",
              "      <th>iPhone</th>\n",
              "    </tr>\n",
              "  </thead>\n",
              "  <tbody>\n",
              "    <tr>\n",
              "      <th>count</th>\n",
              "      <td>50000.000000</td>\n",
              "      <td>41878.000000</td>\n",
              "      <td>50000.000000</td>\n",
              "      <td>50000.000000</td>\n",
              "      <td>50000.000000</td>\n",
              "      <td>50000.000000</td>\n",
              "      <td>49799.000000</td>\n",
              "      <td>50000.000000</td>\n",
              "      <td>50000.000000</td>\n",
              "      <td>50000.000000</td>\n",
              "      <td>50000.000000</td>\n",
              "      <td>50000.000000</td>\n",
              "      <td>50000.000000</td>\n",
              "      <td>50000.000000</td>\n",
              "    </tr>\n",
              "    <tr>\n",
              "      <th>mean</th>\n",
              "      <td>2.278200</td>\n",
              "      <td>4.601559</td>\n",
              "      <td>1.074764</td>\n",
              "      <td>8.849536</td>\n",
              "      <td>60.926084</td>\n",
              "      <td>5.796827</td>\n",
              "      <td>4.778158</td>\n",
              "      <td>0.376080</td>\n",
              "      <td>0.330680</td>\n",
              "      <td>0.202600</td>\n",
              "      <td>0.466720</td>\n",
              "      <td>0.300440</td>\n",
              "      <td>0.007920</td>\n",
              "      <td>0.691640</td>\n",
              "    </tr>\n",
              "    <tr>\n",
              "      <th>std</th>\n",
              "      <td>3.792684</td>\n",
              "      <td>0.617338</td>\n",
              "      <td>0.222336</td>\n",
              "      <td>19.958811</td>\n",
              "      <td>37.081503</td>\n",
              "      <td>5.707357</td>\n",
              "      <td>0.446652</td>\n",
              "      <td>0.484405</td>\n",
              "      <td>0.470463</td>\n",
              "      <td>0.401941</td>\n",
              "      <td>0.498896</td>\n",
              "      <td>0.458454</td>\n",
              "      <td>0.088642</td>\n",
              "      <td>0.461821</td>\n",
              "    </tr>\n",
              "    <tr>\n",
              "      <th>min</th>\n",
              "      <td>0.000000</td>\n",
              "      <td>1.000000</td>\n",
              "      <td>1.000000</td>\n",
              "      <td>0.000000</td>\n",
              "      <td>0.000000</td>\n",
              "      <td>0.000000</td>\n",
              "      <td>1.000000</td>\n",
              "      <td>0.000000</td>\n",
              "      <td>0.000000</td>\n",
              "      <td>0.000000</td>\n",
              "      <td>0.000000</td>\n",
              "      <td>0.000000</td>\n",
              "      <td>0.000000</td>\n",
              "      <td>0.000000</td>\n",
              "    </tr>\n",
              "    <tr>\n",
              "      <th>25%</th>\n",
              "      <td>0.000000</td>\n",
              "      <td>4.300000</td>\n",
              "      <td>1.000000</td>\n",
              "      <td>0.000000</td>\n",
              "      <td>33.300000</td>\n",
              "      <td>2.420000</td>\n",
              "      <td>4.700000</td>\n",
              "      <td>0.000000</td>\n",
              "      <td>0.000000</td>\n",
              "      <td>0.000000</td>\n",
              "      <td>0.000000</td>\n",
              "      <td>0.000000</td>\n",
              "      <td>0.000000</td>\n",
              "      <td>0.000000</td>\n",
              "    </tr>\n",
              "    <tr>\n",
              "      <th>50%</th>\n",
              "      <td>1.000000</td>\n",
              "      <td>4.900000</td>\n",
              "      <td>1.000000</td>\n",
              "      <td>0.000000</td>\n",
              "      <td>66.700000</td>\n",
              "      <td>3.880000</td>\n",
              "      <td>5.000000</td>\n",
              "      <td>0.000000</td>\n",
              "      <td>0.000000</td>\n",
              "      <td>0.000000</td>\n",
              "      <td>0.000000</td>\n",
              "      <td>0.000000</td>\n",
              "      <td>0.000000</td>\n",
              "      <td>1.000000</td>\n",
              "    </tr>\n",
              "    <tr>\n",
              "      <th>75%</th>\n",
              "      <td>3.000000</td>\n",
              "      <td>5.000000</td>\n",
              "      <td>1.050000</td>\n",
              "      <td>8.600000</td>\n",
              "      <td>100.000000</td>\n",
              "      <td>6.940000</td>\n",
              "      <td>5.000000</td>\n",
              "      <td>1.000000</td>\n",
              "      <td>1.000000</td>\n",
              "      <td>0.000000</td>\n",
              "      <td>1.000000</td>\n",
              "      <td>1.000000</td>\n",
              "      <td>0.000000</td>\n",
              "      <td>1.000000</td>\n",
              "    </tr>\n",
              "    <tr>\n",
              "      <th>max</th>\n",
              "      <td>125.000000</td>\n",
              "      <td>5.000000</td>\n",
              "      <td>8.000000</td>\n",
              "      <td>100.000000</td>\n",
              "      <td>100.000000</td>\n",
              "      <td>160.960000</td>\n",
              "      <td>5.000000</td>\n",
              "      <td>1.000000</td>\n",
              "      <td>1.000000</td>\n",
              "      <td>1.000000</td>\n",
              "      <td>1.000000</td>\n",
              "      <td>1.000000</td>\n",
              "      <td>1.000000</td>\n",
              "      <td>1.000000</td>\n",
              "    </tr>\n",
              "  </tbody>\n",
              "</table>\n",
              "</div>"
            ],
            "text/plain": [
              "       trips_in_first_30_days  avg_rating_of_driver  ...         Other        iPhone\n",
              "count            50000.000000          41878.000000  ...  50000.000000  50000.000000\n",
              "mean                 2.278200              4.601559  ...      0.007920      0.691640\n",
              "std                  3.792684              0.617338  ...      0.088642      0.461821\n",
              "min                  0.000000              1.000000  ...      0.000000      0.000000\n",
              "25%                  0.000000              4.300000  ...      0.000000      0.000000\n",
              "50%                  1.000000              4.900000  ...      0.000000      1.000000\n",
              "75%                  3.000000              5.000000  ...      0.000000      1.000000\n",
              "max                125.000000              5.000000  ...      1.000000      1.000000\n",
              "\n",
              "[8 rows x 14 columns]"
            ]
          },
          "metadata": {
            "tags": []
          },
          "execution_count": 21
        }
      ]
    },
    {
      "cell_type": "code",
      "metadata": {
        "colab": {
          "base_uri": "https://localhost:8080/",
          "height": 424
        },
        "id": "VcHsY894wJOm",
        "outputId": "3b23766e-c4c6-447e-d614-284951886ecc"
      },
      "source": [
        "categoricals = df.iloc[:, 10:]\n",
        "categoricals"
      ],
      "execution_count": 22,
      "outputs": [
        {
          "output_type": "execute_result",
          "data": {
            "text/html": [
              "<div>\n",
              "<style scoped>\n",
              "    .dataframe tbody tr th:only-of-type {\n",
              "        vertical-align: middle;\n",
              "    }\n",
              "\n",
              "    .dataframe tbody tr th {\n",
              "        vertical-align: top;\n",
              "    }\n",
              "\n",
              "    .dataframe thead th {\n",
              "        text-align: right;\n",
              "    }\n",
              "</style>\n",
              "<table border=\"1\" class=\"dataframe\">\n",
              "  <thead>\n",
              "    <tr style=\"text-align: right;\">\n",
              "      <th></th>\n",
              "      <th>was_retained</th>\n",
              "      <th>Astapor</th>\n",
              "      <th>King's Landing</th>\n",
              "      <th>Winterfell</th>\n",
              "      <th>Android</th>\n",
              "      <th>Other</th>\n",
              "      <th>iPhone</th>\n",
              "    </tr>\n",
              "  </thead>\n",
              "  <tbody>\n",
              "    <tr>\n",
              "      <th>0</th>\n",
              "      <td>1</td>\n",
              "      <td>0</td>\n",
              "      <td>1</td>\n",
              "      <td>0</td>\n",
              "      <td>0</td>\n",
              "      <td>0</td>\n",
              "      <td>1</td>\n",
              "    </tr>\n",
              "    <tr>\n",
              "      <th>1</th>\n",
              "      <td>0</td>\n",
              "      <td>1</td>\n",
              "      <td>0</td>\n",
              "      <td>0</td>\n",
              "      <td>1</td>\n",
              "      <td>0</td>\n",
              "      <td>0</td>\n",
              "    </tr>\n",
              "    <tr>\n",
              "      <th>2</th>\n",
              "      <td>0</td>\n",
              "      <td>1</td>\n",
              "      <td>0</td>\n",
              "      <td>0</td>\n",
              "      <td>0</td>\n",
              "      <td>0</td>\n",
              "      <td>1</td>\n",
              "    </tr>\n",
              "    <tr>\n",
              "      <th>3</th>\n",
              "      <td>1</td>\n",
              "      <td>0</td>\n",
              "      <td>1</td>\n",
              "      <td>0</td>\n",
              "      <td>0</td>\n",
              "      <td>0</td>\n",
              "      <td>1</td>\n",
              "    </tr>\n",
              "    <tr>\n",
              "      <th>4</th>\n",
              "      <td>0</td>\n",
              "      <td>0</td>\n",
              "      <td>0</td>\n",
              "      <td>1</td>\n",
              "      <td>1</td>\n",
              "      <td>0</td>\n",
              "      <td>0</td>\n",
              "    </tr>\n",
              "    <tr>\n",
              "      <th>...</th>\n",
              "      <td>...</td>\n",
              "      <td>...</td>\n",
              "      <td>...</td>\n",
              "      <td>...</td>\n",
              "      <td>...</td>\n",
              "      <td>...</td>\n",
              "      <td>...</td>\n",
              "    </tr>\n",
              "    <tr>\n",
              "      <th>49995</th>\n",
              "      <td>1</td>\n",
              "      <td>0</td>\n",
              "      <td>1</td>\n",
              "      <td>0</td>\n",
              "      <td>0</td>\n",
              "      <td>0</td>\n",
              "      <td>1</td>\n",
              "    </tr>\n",
              "    <tr>\n",
              "      <th>49996</th>\n",
              "      <td>0</td>\n",
              "      <td>1</td>\n",
              "      <td>0</td>\n",
              "      <td>0</td>\n",
              "      <td>0</td>\n",
              "      <td>0</td>\n",
              "      <td>1</td>\n",
              "    </tr>\n",
              "    <tr>\n",
              "      <th>49997</th>\n",
              "      <td>0</td>\n",
              "      <td>0</td>\n",
              "      <td>0</td>\n",
              "      <td>1</td>\n",
              "      <td>1</td>\n",
              "      <td>0</td>\n",
              "      <td>0</td>\n",
              "    </tr>\n",
              "    <tr>\n",
              "      <th>49998</th>\n",
              "      <td>0</td>\n",
              "      <td>1</td>\n",
              "      <td>0</td>\n",
              "      <td>0</td>\n",
              "      <td>0</td>\n",
              "      <td>0</td>\n",
              "      <td>1</td>\n",
              "    </tr>\n",
              "    <tr>\n",
              "      <th>49999</th>\n",
              "      <td>0</td>\n",
              "      <td>1</td>\n",
              "      <td>0</td>\n",
              "      <td>0</td>\n",
              "      <td>1</td>\n",
              "      <td>0</td>\n",
              "      <td>0</td>\n",
              "    </tr>\n",
              "  </tbody>\n",
              "</table>\n",
              "<p>50000 rows × 7 columns</p>\n",
              "</div>"
            ],
            "text/plain": [
              "       was_retained  Astapor  King's Landing  ...  Android  Other  iPhone\n",
              "0                 1        0               1  ...        0      0       1\n",
              "1                 0        1               0  ...        1      0       0\n",
              "2                 0        1               0  ...        0      0       1\n",
              "3                 1        0               1  ...        0      0       1\n",
              "4                 0        0               0  ...        1      0       0\n",
              "...             ...      ...             ...  ...      ...    ...     ...\n",
              "49995             1        0               1  ...        0      0       1\n",
              "49996             0        1               0  ...        0      0       1\n",
              "49997             0        0               0  ...        1      0       0\n",
              "49998             0        1               0  ...        0      0       1\n",
              "49999             0        1               0  ...        1      0       0\n",
              "\n",
              "[50000 rows x 7 columns]"
            ]
          },
          "metadata": {
            "tags": []
          },
          "execution_count": 22
        }
      ]
    },
    {
      "cell_type": "code",
      "metadata": {
        "colab": {
          "base_uri": "https://localhost:8080/",
          "height": 350
        },
        "id": "Kl3Y7EU4wYoZ",
        "outputId": "d539221a-54b1-48e1-c4c4-93cdb573869a"
      },
      "source": [
        "sns.heatmap(categoricals.corr())"
      ],
      "execution_count": 23,
      "outputs": [
        {
          "output_type": "execute_result",
          "data": {
            "text/plain": [
              "<matplotlib.axes._subplots.AxesSubplot at 0x7fe4af255a50>"
            ]
          },
          "metadata": {
            "tags": []
          },
          "execution_count": 23
        },
        {
          "output_type": "display_data",
          "data": {
            "image/png": "[encoded data removed]",
            "text/plain": [
              "<Figure size 432x288 with 2 Axes>"
            ]
          },
          "metadata": {
            "tags": [],
            "needs_background": "light"
          }
        }
      ]
    },
    {
      "cell_type": "code",
      "metadata": {
        "colab": {
          "base_uri": "https://localhost:8080/"
        },
        "id": "47wOGGQvwnUh",
        "outputId": "2796158b-97b2-42b9-c95e-e2859a719855"
      },
      "source": [
        "categoricals.corr().was_retained.sort_values(ascending=False)"
      ],
      "execution_count": 24,
      "outputs": [
        {
          "output_type": "execute_result",
          "data": {
            "text/plain": [
              "was_retained      1.000000\n",
              "King's Landing    0.262284\n",
              "iPhone            0.225244\n",
              "Other            -0.007419\n",
              "Winterfell       -0.046611\n",
              "Astapor          -0.174655\n",
              "Android          -0.225464\n",
              "Name: was_retained, dtype: float64"
            ]
          },
          "metadata": {
            "tags": []
          },
          "execution_count": 24
        }
      ]
    },
    {
      "cell_type": "code",
      "metadata": {
        "id": "nH2wfpRnwx--"
      },
      "source": [
        "df['signup_date'] = df['signup_date'].dt.strftime(\"%Y%m%d\").astype(int) - 20140100"
      ],
      "execution_count": 25,
      "outputs": []
    },
    {
      "cell_type": "code",
      "metadata": {
        "colab": {
          "base_uri": "https://localhost:8080/"
        },
        "id": "uyKb9TjOxEgE",
        "outputId": "50443ac4-4571-4fd2-8714-7d853fcd9129"
      },
      "source": [
        "df['signup_date'].corr(df['was_retained'])"
      ],
      "execution_count": 26,
      "outputs": [
        {
          "output_type": "execute_result",
          "data": {
            "text/plain": [
              "-0.02021061843484827"
            ]
          },
          "metadata": {
            "tags": []
          },
          "execution_count": 26
        }
      ]
    },
    {
      "cell_type": "code",
      "metadata": {
        "id": "zuayV0LTxLFl"
      },
      "source": [
        "ref = min(df['last_trip_date'])\n",
        "df['last_trip_date'] = (df['last_trip_date'] - ref).dt.days + 1"
      ],
      "execution_count": 27,
      "outputs": []
    },
    {
      "cell_type": "code",
      "metadata": {
        "colab": {
          "base_uri": "https://localhost:8080/"
        },
        "id": "j63lvK4PxRaY",
        "outputId": "bb2d7e7f-349d-4b5c-8054-31baca8f4a38"
      },
      "source": [
        "df['last_trip_date'].corr(df['was_retained'])"
      ],
      "execution_count": 28,
      "outputs": [
        {
          "output_type": "execute_result",
          "data": {
            "text/plain": [
              "0.7808374961937247"
            ]
          },
          "metadata": {
            "tags": []
          },
          "execution_count": 28
        }
      ]
    },
    {
      "cell_type": "code",
      "metadata": {
        "colab": {
          "base_uri": "https://localhost:8080/"
        },
        "id": "Fsgqd8TBxUtX",
        "outputId": "add9f151-a2ce-4e26-ce07-2d72d241195d"
      },
      "source": [
        "df.info()"
      ],
      "execution_count": 29,
      "outputs": [
        {
          "output_type": "stream",
          "text": [
            "<class 'pandas.core.frame.DataFrame'>\n",
            "RangeIndex: 50000 entries, 0 to 49999\n",
            "Data columns (total 17 columns):\n",
            " #   Column                  Non-Null Count  Dtype  \n",
            "---  ------                  --------------  -----  \n",
            " 0   trips_in_first_30_days  50000 non-null  int64  \n",
            " 1   signup_date             50000 non-null  int64  \n",
            " 2   avg_rating_of_driver    41878 non-null  float64\n",
            " 3   avg_surge               50000 non-null  float64\n",
            " 4   last_trip_date          50000 non-null  int64  \n",
            " 5   surge_pct               50000 non-null  float64\n",
            " 6   ultimate_black_user     50000 non-null  bool   \n",
            " 7   weekday_pct             50000 non-null  float64\n",
            " 8   avg_dist                50000 non-null  float64\n",
            " 9   avg_rating_by_driver    49799 non-null  float64\n",
            " 10  was_retained            50000 non-null  int64  \n",
            " 11  Astapor                 50000 non-null  uint8  \n",
            " 12  King's Landing          50000 non-null  uint8  \n",
            " 13  Winterfell              50000 non-null  uint8  \n",
            " 14  Android                 50000 non-null  uint8  \n",
            " 15  Other                   50000 non-null  uint8  \n",
            " 16  iPhone                  50000 non-null  uint8  \n",
            "dtypes: bool(1), float64(6), int64(4), uint8(6)\n",
            "memory usage: 4.1 MB\n"
          ],
          "name": "stdout"
        }
      ]
    },
    {
      "cell_type": "code",
      "metadata": {
        "id": "Lemu4AGSxYQE"
      },
      "source": [
        "df['ultimate_black_user'] = df['ultimate_black_user']*1"
      ],
      "execution_count": 30,
      "outputs": []
    },
    {
      "cell_type": "code",
      "metadata": {
        "colab": {
          "base_uri": "https://localhost:8080/",
          "height": 337
        },
        "id": "RmYXvQj8xcbW",
        "outputId": "51c57ffa-86dd-4f96-9ead-84f958d9b4f7"
      },
      "source": [
        "df.describe()"
      ],
      "execution_count": 31,
      "outputs": [
        {
          "output_type": "execute_result",
          "data": {
            "text/html": [
              "<div>\n",
              "<style scoped>\n",
              "    .dataframe tbody tr th:only-of-type {\n",
              "        vertical-align: middle;\n",
              "    }\n",
              "\n",
              "    .dataframe tbody tr th {\n",
              "        vertical-align: top;\n",
              "    }\n",
              "\n",
              "    .dataframe thead th {\n",
              "        text-align: right;\n",
              "    }\n",
              "</style>\n",
              "<table border=\"1\" class=\"dataframe\">\n",
              "  <thead>\n",
              "    <tr style=\"text-align: right;\">\n",
              "      <th></th>\n",
              "      <th>trips_in_first_30_days</th>\n",
              "      <th>signup_date</th>\n",
              "      <th>avg_rating_of_driver</th>\n",
              "      <th>avg_surge</th>\n",
              "      <th>last_trip_date</th>\n",
              "      <th>surge_pct</th>\n",
              "      <th>ultimate_black_user</th>\n",
              "      <th>weekday_pct</th>\n",
              "      <th>avg_dist</th>\n",
              "      <th>avg_rating_by_driver</th>\n",
              "      <th>was_retained</th>\n",
              "      <th>Astapor</th>\n",
              "      <th>King's Landing</th>\n",
              "      <th>Winterfell</th>\n",
              "      <th>Android</th>\n",
              "      <th>Other</th>\n",
              "      <th>iPhone</th>\n",
              "    </tr>\n",
              "  </thead>\n",
              "  <tbody>\n",
              "    <tr>\n",
              "      <th>count</th>\n",
              "      <td>50000.000000</td>\n",
              "      <td>50000.00000</td>\n",
              "      <td>41878.000000</td>\n",
              "      <td>50000.000000</td>\n",
              "      <td>50000.000000</td>\n",
              "      <td>50000.000000</td>\n",
              "      <td>50000.00000</td>\n",
              "      <td>50000.000000</td>\n",
              "      <td>50000.000000</td>\n",
              "      <td>49799.000000</td>\n",
              "      <td>50000.000000</td>\n",
              "      <td>50000.000000</td>\n",
              "      <td>50000.000000</td>\n",
              "      <td>50000.000000</td>\n",
              "      <td>50000.000000</td>\n",
              "      <td>50000.000000</td>\n",
              "      <td>50000.000000</td>\n",
              "    </tr>\n",
              "    <tr>\n",
              "      <th>mean</th>\n",
              "      <td>2.278200</td>\n",
              "      <td>16.54468</td>\n",
              "      <td>4.601559</td>\n",
              "      <td>1.074764</td>\n",
              "      <td>109.334780</td>\n",
              "      <td>8.849536</td>\n",
              "      <td>0.37708</td>\n",
              "      <td>60.926084</td>\n",
              "      <td>5.796827</td>\n",
              "      <td>4.778158</td>\n",
              "      <td>0.376080</td>\n",
              "      <td>0.330680</td>\n",
              "      <td>0.202600</td>\n",
              "      <td>0.466720</td>\n",
              "      <td>0.300440</td>\n",
              "      <td>0.007920</td>\n",
              "      <td>0.691640</td>\n",
              "    </tr>\n",
              "    <tr>\n",
              "      <th>std</th>\n",
              "      <td>3.792684</td>\n",
              "      <td>8.75422</td>\n",
              "      <td>0.617338</td>\n",
              "      <td>0.222336</td>\n",
              "      <td>61.718985</td>\n",
              "      <td>19.958811</td>\n",
              "      <td>0.48466</td>\n",
              "      <td>37.081503</td>\n",
              "      <td>5.707357</td>\n",
              "      <td>0.446652</td>\n",
              "      <td>0.484405</td>\n",
              "      <td>0.470463</td>\n",
              "      <td>0.401941</td>\n",
              "      <td>0.498896</td>\n",
              "      <td>0.458454</td>\n",
              "      <td>0.088642</td>\n",
              "      <td>0.461821</td>\n",
              "    </tr>\n",
              "    <tr>\n",
              "      <th>min</th>\n",
              "      <td>0.000000</td>\n",
              "      <td>1.00000</td>\n",
              "      <td>1.000000</td>\n",
              "      <td>1.000000</td>\n",
              "      <td>1.000000</td>\n",
              "      <td>0.000000</td>\n",
              "      <td>0.00000</td>\n",
              "      <td>0.000000</td>\n",
              "      <td>0.000000</td>\n",
              "      <td>1.000000</td>\n",
              "      <td>0.000000</td>\n",
              "      <td>0.000000</td>\n",
              "      <td>0.000000</td>\n",
              "      <td>0.000000</td>\n",
              "      <td>0.000000</td>\n",
              "      <td>0.000000</td>\n",
              "      <td>0.000000</td>\n",
              "    </tr>\n",
              "    <tr>\n",
              "      <th>25%</th>\n",
              "      <td>0.000000</td>\n",
              "      <td>9.00000</td>\n",
              "      <td>4.300000</td>\n",
              "      <td>1.000000</td>\n",
              "      <td>45.000000</td>\n",
              "      <td>0.000000</td>\n",
              "      <td>0.00000</td>\n",
              "      <td>33.300000</td>\n",
              "      <td>2.420000</td>\n",
              "      <td>4.700000</td>\n",
              "      <td>0.000000</td>\n",
              "      <td>0.000000</td>\n",
              "      <td>0.000000</td>\n",
              "      <td>0.000000</td>\n",
              "      <td>0.000000</td>\n",
              "      <td>0.000000</td>\n",
              "      <td>0.000000</td>\n",
              "    </tr>\n",
              "    <tr>\n",
              "      <th>50%</th>\n",
              "      <td>1.000000</td>\n",
              "      <td>17.00000</td>\n",
              "      <td>4.900000</td>\n",
              "      <td>1.000000</td>\n",
              "      <td>128.000000</td>\n",
              "      <td>0.000000</td>\n",
              "      <td>0.00000</td>\n",
              "      <td>66.700000</td>\n",
              "      <td>3.880000</td>\n",
              "      <td>5.000000</td>\n",
              "      <td>0.000000</td>\n",
              "      <td>0.000000</td>\n",
              "      <td>0.000000</td>\n",
              "      <td>0.000000</td>\n",
              "      <td>0.000000</td>\n",
              "      <td>0.000000</td>\n",
              "      <td>1.000000</td>\n",
              "    </tr>\n",
              "    <tr>\n",
              "      <th>75%</th>\n",
              "      <td>3.000000</td>\n",
              "      <td>24.00000</td>\n",
              "      <td>5.000000</td>\n",
              "      <td>1.050000</td>\n",
              "      <td>169.000000</td>\n",
              "      <td>8.600000</td>\n",
              "      <td>1.00000</td>\n",
              "      <td>100.000000</td>\n",
              "      <td>6.940000</td>\n",
              "      <td>5.000000</td>\n",
              "      <td>1.000000</td>\n",
              "      <td>1.000000</td>\n",
              "      <td>0.000000</td>\n",
              "      <td>1.000000</td>\n",
              "      <td>1.000000</td>\n",
              "      <td>0.000000</td>\n",
              "      <td>1.000000</td>\n",
              "    </tr>\n",
              "    <tr>\n",
              "      <th>max</th>\n",
              "      <td>125.000000</td>\n",
              "      <td>31.00000</td>\n",
              "      <td>5.000000</td>\n",
              "      <td>8.000000</td>\n",
              "      <td>182.000000</td>\n",
              "      <td>100.000000</td>\n",
              "      <td>1.00000</td>\n",
              "      <td>100.000000</td>\n",
              "      <td>160.960000</td>\n",
              "      <td>5.000000</td>\n",
              "      <td>1.000000</td>\n",
              "      <td>1.000000</td>\n",
              "      <td>1.000000</td>\n",
              "      <td>1.000000</td>\n",
              "      <td>1.000000</td>\n",
              "      <td>1.000000</td>\n",
              "      <td>1.000000</td>\n",
              "    </tr>\n",
              "  </tbody>\n",
              "</table>\n",
              "</div>"
            ],
            "text/plain": [
              "       trips_in_first_30_days  signup_date  ...         Other        iPhone\n",
              "count            50000.000000  50000.00000  ...  50000.000000  50000.000000\n",
              "mean                 2.278200     16.54468  ...      0.007920      0.691640\n",
              "std                  3.792684      8.75422  ...      0.088642      0.461821\n",
              "min                  0.000000      1.00000  ...      0.000000      0.000000\n",
              "25%                  0.000000      9.00000  ...      0.000000      0.000000\n",
              "50%                  1.000000     17.00000  ...      0.000000      1.000000\n",
              "75%                  3.000000     24.00000  ...      0.000000      1.000000\n",
              "max                125.000000     31.00000  ...      1.000000      1.000000\n",
              "\n",
              "[8 rows x 17 columns]"
            ]
          },
          "metadata": {
            "tags": []
          },
          "execution_count": 31
        }
      ]
    },
    {
      "cell_type": "code",
      "metadata": {
        "id": "XjiWwX82xdbr"
      },
      "source": [
        "from sklearn.preprocessing import StandardScaler, OneHotEncoder\n",
        "from sklearn.pipeline import Pipeline\n",
        "from sklearn.compose import ColumnTransformer\n",
        "from sklearn.impute import SimpleImputer\n",
        "from sklearn.model_selection import train_test_split, GridSearchCV, RandomizedSearchCV, cross_val_score\n",
        "from sklearn.metrics import classification_report, confusion_matrix, roc_auc_score, roc_curve, accuracy_score, precision_score, recall_score, precision_recall_curve\n",
        "import time"
      ],
      "execution_count": 32,
      "outputs": []
    },
    {
      "cell_type": "code",
      "metadata": {
        "colab": {
          "base_uri": "https://localhost:8080/"
        },
        "id": "qodPAkpcx85h",
        "outputId": "1bca51fb-3273-430b-a4f7-8d253ca3707a"
      },
      "source": [
        "data = pd.read_json(\"/content/drive/MyDrive/ultimate_tech_takehome/ultimate_data_challenge.json\")\n",
        "df = pd.DataFrame(data)\n",
        "\n",
        "df['was_retained'] = (df.last_trip_date >= '2014-06-01')*1\n",
        "df.last_trip_date = pd.to_datetime(df.last_trip_date)\n",
        "df.signup_date = pd.to_datetime(df.signup_date)\n",
        "df['signup_date'] = df['signup_date'].dt.strftime('%Y%m%d').astype(int) - 20140100\n",
        "df['last_trip_date'] = (df['last_trip_date'] - min(df['last_trip_date'])).dt.days + 1\n",
        "\n",
        "df.info()"
      ],
      "execution_count": 33,
      "outputs": [
        {
          "output_type": "stream",
          "text": [
            "<class 'pandas.core.frame.DataFrame'>\n",
            "RangeIndex: 50000 entries, 0 to 49999\n",
            "Data columns (total 13 columns):\n",
            " #   Column                  Non-Null Count  Dtype  \n",
            "---  ------                  --------------  -----  \n",
            " 0   city                    50000 non-null  object \n",
            " 1   trips_in_first_30_days  50000 non-null  int64  \n",
            " 2   signup_date             50000 non-null  int64  \n",
            " 3   avg_rating_of_driver    41878 non-null  float64\n",
            " 4   avg_surge               50000 non-null  float64\n",
            " 5   last_trip_date          50000 non-null  int64  \n",
            " 6   phone                   49604 non-null  object \n",
            " 7   surge_pct               50000 non-null  float64\n",
            " 8   ultimate_black_user     50000 non-null  bool   \n",
            " 9   weekday_pct             50000 non-null  float64\n",
            " 10  avg_dist                50000 non-null  float64\n",
            " 11  avg_rating_by_driver    49799 non-null  float64\n",
            " 12  was_retained            50000 non-null  int64  \n",
            "dtypes: bool(1), float64(6), int64(4), object(2)\n",
            "memory usage: 4.6+ MB\n"
          ],
          "name": "stdout"
        }
      ]
    },
    {
      "cell_type": "code",
      "metadata": {
        "id": "Oi0Kz9d5yz_v"
      },
      "source": [
        "np.random.seed(42)\n",
        "\n",
        "df.phone.fillna('Other', inplace=True)\n",
        "categorical_features = ['city', 'phone']\n",
        "categorical_transformer = Pipeline(steps=[\n",
        "    ('imputer', SimpleImputer(strategy='constant', fill_value='missing')),\n",
        "    ('onehot', OneHotEncoder())\n",
        "]\n",
        ")\n",
        "\n",
        "numeric_features = [column for column in df.columns.tolist() if column not in categorical_features and\n",
        "                    column not in ['last_trip_date', 'was_retained']]\n",
        "\n",
        "numeric_transformer = Pipeline(steps=[\n",
        "    ('imputer', SimpleImputer(strategy='median')),\n",
        "    ('scaler', StandardScaler())\n",
        "]\n",
        ")\n",
        "\n",
        "preprocessor = ColumnTransformer(\n",
        "    transformers=[\n",
        "        ('num', numeric_transformer, numeric_features),\n",
        "        ('cat', categorical_transformer, categorical_features)\n",
        "]\n",
        ")"
      ],
      "execution_count": 34,
      "outputs": []
    },
    {
      "cell_type": "code",
      "metadata": {
        "id": "kb1iflTky9GT"
      },
      "source": [
        "\n",
        "X = df.drop(['was_retained', 'last_trip_date'], axis=1)\n",
        "y = df['was_retained']\n",
        "\n",
        "X_train, X_test, y_train, y_test = train_test_split(X, y, test_size=0.3, random_state=0, stratify=y)\n"
      ],
      "execution_count": 35,
      "outputs": []
    },
    {
      "cell_type": "code",
      "metadata": {
        "colab": {
          "base_uri": "https://localhost:8080/",
          "height": 241
        },
        "id": "j9-P3laLy_bO",
        "outputId": "43be5318-292c-4839-acf0-d7730823cfee"
      },
      "source": [
        "metrics = pd.DataFrame(index=['accuracy', 'precision', 'recall', 'AUC', 'Time to Train'], \n",
        "                       columns=['Dummy Model', 'Logistic Regression', 'K Nearest Neighbors', 'Support Vector Machine', 'Decision Tree', 'Random Forest', 'Naive Bayes'])\n",
        "metrics"
      ],
      "execution_count": 36,
      "outputs": [
        {
          "output_type": "execute_result",
          "data": {
            "text/html": [
              "<div>\n",
              "<style scoped>\n",
              "    .dataframe tbody tr th:only-of-type {\n",
              "        vertical-align: middle;\n",
              "    }\n",
              "\n",
              "    .dataframe tbody tr th {\n",
              "        vertical-align: top;\n",
              "    }\n",
              "\n",
              "    .dataframe thead th {\n",
              "        text-align: right;\n",
              "    }\n",
              "</style>\n",
              "<table border=\"1\" class=\"dataframe\">\n",
              "  <thead>\n",
              "    <tr style=\"text-align: right;\">\n",
              "      <th></th>\n",
              "      <th>Dummy Model</th>\n",
              "      <th>Logistic Regression</th>\n",
              "      <th>K Nearest Neighbors</th>\n",
              "      <th>Support Vector Machine</th>\n",
              "      <th>Decision Tree</th>\n",
              "      <th>Random Forest</th>\n",
              "      <th>Naive Bayes</th>\n",
              "    </tr>\n",
              "  </thead>\n",
              "  <tbody>\n",
              "    <tr>\n",
              "      <th>accuracy</th>\n",
              "      <td>NaN</td>\n",
              "      <td>NaN</td>\n",
              "      <td>NaN</td>\n",
              "      <td>NaN</td>\n",
              "      <td>NaN</td>\n",
              "      <td>NaN</td>\n",
              "      <td>NaN</td>\n",
              "    </tr>\n",
              "    <tr>\n",
              "      <th>precision</th>\n",
              "      <td>NaN</td>\n",
              "      <td>NaN</td>\n",
              "      <td>NaN</td>\n",
              "      <td>NaN</td>\n",
              "      <td>NaN</td>\n",
              "      <td>NaN</td>\n",
              "      <td>NaN</td>\n",
              "    </tr>\n",
              "    <tr>\n",
              "      <th>recall</th>\n",
              "      <td>NaN</td>\n",
              "      <td>NaN</td>\n",
              "      <td>NaN</td>\n",
              "      <td>NaN</td>\n",
              "      <td>NaN</td>\n",
              "      <td>NaN</td>\n",
              "      <td>NaN</td>\n",
              "    </tr>\n",
              "    <tr>\n",
              "      <th>AUC</th>\n",
              "      <td>NaN</td>\n",
              "      <td>NaN</td>\n",
              "      <td>NaN</td>\n",
              "      <td>NaN</td>\n",
              "      <td>NaN</td>\n",
              "      <td>NaN</td>\n",
              "      <td>NaN</td>\n",
              "    </tr>\n",
              "    <tr>\n",
              "      <th>Time to Train</th>\n",
              "      <td>NaN</td>\n",
              "      <td>NaN</td>\n",
              "      <td>NaN</td>\n",
              "      <td>NaN</td>\n",
              "      <td>NaN</td>\n",
              "      <td>NaN</td>\n",
              "      <td>NaN</td>\n",
              "    </tr>\n",
              "  </tbody>\n",
              "</table>\n",
              "</div>"
            ],
            "text/plain": [
              "              Dummy Model Logistic Regression  ... Random Forest Naive Bayes\n",
              "accuracy              NaN                 NaN  ...           NaN         NaN\n",
              "precision             NaN                 NaN  ...           NaN         NaN\n",
              "recall                NaN                 NaN  ...           NaN         NaN\n",
              "AUC                   NaN                 NaN  ...           NaN         NaN\n",
              "Time to Train         NaN                 NaN  ...           NaN         NaN\n",
              "\n",
              "[5 rows x 7 columns]"
            ]
          },
          "metadata": {
            "tags": []
          },
          "execution_count": 36
        }
      ]
    },
    {
      "cell_type": "code",
      "metadata": {
        "id": "2LSVZUWzzDUK"
      },
      "source": [
        "def train_and_score_model(model_name, estimator, param_grid=None, cv=5, iid=False):\n",
        "    \n",
        "    #### Step 5: Instantiate the CV Object\n",
        "    \n",
        "    if model_name in ['Dummy Model', 'Naive Bayes']:\n",
        "        cv = estimator\n",
        "    elif model_name == 'Logistic Regression':\n",
        "        cv = GridSearchCV(estimator, param_grid, cv=cv, iid=False)\n",
        "    else: \n",
        "        cv = RandomizedSearchCV(estimator, param_grid, cv=cv, iid=False, random_state=None)\n",
        "\n",
        "    #### Step 6: Fit on Training\n",
        "    t0 = time.time()\n",
        "    cv.fit(X_train, y_train)\n",
        "    ttt = time.time() - t0 # ttt stands for \"time to train\"\n",
        "    print(\"It takes %.3f seconds for %s fitting\" % (ttt, model_name))\n",
        "    metrics.loc['Time to Train', model_name] = ttt\n",
        "\n",
        "    #### Step 7: Predict on Test\n",
        "\n",
        "    y_pred = cv.predict(X_test)\n",
        "\n",
        "    #### Step 8: Scoring\n",
        "    ##### Accuracy\n",
        "\n",
        "    print(\"Accuracy with \" + model_name + \"on the testing set is: %.3f\" % cv.score(X_test, y_test))\n",
        "\n",
        "    metrics.loc['accuracy', model_name] = accuracy_score(y_pred=y_pred, y_true=y_test)\n",
        "    metrics.loc['precision', model_name] = precision_score(y_pred=y_pred, y_true=y_test)\n",
        "    metrics.loc['recall', model_name] = recall_score(y_pred=y_pred, y_true=y_test)\n",
        "    \n",
        "    if model_name != 'Support Vector Machine':\n",
        "        y_pred_prob = cv.predict_proba(X_test)[:,1]\n",
        "        metrics.loc['AUC', model_name] = roc_auc_score(y_test, y_pred_prob)\n",
        "\n",
        "    print(Conf_Matrix(confusion_matrix(y_test, y_pred)))\n",
        "    print(classification_report(y_test, y_pred))\n",
        "\n",
        "    if model_name != 'Support Vector Machine':\n",
        "        # ROC Curve\n",
        "        fpr, tpr, thresholds  = roc_curve(y_test, y_pred_prob)\n",
        "        plt.plot([0,1], [0,1], 'k--')\n",
        "        plt.plot(fpr, tpr, label=model_name)\n",
        "        plt.xlabel('False Positive Rate')\n",
        "        plt.ylabel('True Positive Rate')\n",
        "        plt.title('%s ROC Curve' % model_name)\n",
        "        plt.show()\n",
        "\n",
        "    return cv"
      ],
      "execution_count": 37,
      "outputs": []
    },
    {
      "cell_type": "code",
      "metadata": {
        "id": "iu8CK7ndzNHB"
      },
      "source": [
        "\n",
        "def Conf_Matrix(CM, labels=['Not Retained', 'Retained']):\n",
        "    df = pd.DataFrame(data=CM, index=labels, columns=labels)\n",
        "    df.index.name = 'TRUE'\n",
        "    df.columns.name = 'PREDICTION'\n",
        "    df.loc['Total'] = df.sum()\n",
        "    df['Total'] = df.sum(axis=1)\n",
        "    return df"
      ],
      "execution_count": 38,
      "outputs": []
    },
    {
      "cell_type": "code",
      "metadata": {
        "id": "sm65-u32zOri"
      },
      "source": [
        "\n",
        "from sklearn.dummy import DummyClassifier\n",
        "from sklearn.linear_model import LogisticRegression\n",
        "from sklearn.neighbors import KNeighborsClassifier\n",
        "from sklearn.svm import SVC\n",
        "from sklearn.tree import DecisionTreeClassifier\n",
        "from sklearn.ensemble import RandomForestClassifier\n",
        "from sklearn.naive_bayes import GaussianNB\n",
        "from scipy.stats import randint\n",
        "\n",
        "\n",
        "# Step 3: Instantiate the model/estimator\n",
        "classifier_dm = DummyClassifier(strategy=\"most_frequent\", random_state=0)\n",
        "classifier_lr = LogisticRegression(solver='liblinear', random_state=0)\n",
        "classifier_knn = KNeighborsClassifier()\n",
        "classifier_svm = SVC(random_state=0)\n",
        "classifier_dt = DecisionTreeClassifier(random_state=0)\n",
        "classifier_rf = RandomForestClassifier(random_state=0)\n",
        "classifier_nb = GaussianNB()\n",
        "\n",
        "classifiers = [classifier_dm, classifier_lr, classifier_knn, classifier_svm, classifier_dt, classifier_rf, classifier_nb]\n",
        "\n",
        "# Step 4: Specify the Hyperparameter Space\n",
        "param_grid_dm = None\n",
        "param_grid_lr = {\n",
        "    'preprocessor__num__imputer__strategy': ['mean', 'median'],\n",
        "    'classifier__C': np.logspace(-5, 8, 15),\n",
        "    'classifier__penalty': ['l1', 'l2']\n",
        "}\n",
        "param_grid_knn = {\n",
        "    'preprocessor__num__imputer__strategy': ['mean', 'median'],\n",
        "    'classifier__n_neighbors': np.arange(1,20)\n",
        "}\n",
        "param_grid_svm = {\n",
        "    'preprocessor__num__imputer__strategy': ['mean', 'median'],\n",
        "    'classifier__C': [0.1, 1, 10, 100],\n",
        "    'classifier__gamma': [1, 0.1, 0.01]\n",
        "}\n",
        "param_grid_dt = {\n",
        "                'preprocessor__num__imputer__strategy': ['mean', 'median'],\n",
        "                'classifier__max_depth': [3, 10, 20, None],\n",
        "                'classifier__max_features': randint(1, 9),\n",
        "                'classifier__min_samples_leaf': randint(1, 9),\n",
        "                'classifier__min_samples_split': randint(2, 9),\n",
        "                'classifier__criterion': [\"gini\", \"entropy\"]\n",
        "}\n",
        "param_grid_rf = {\n",
        "                 'preprocessor__num__imputer__strategy': ['mean', 'median'], \n",
        "                 'classifier__n_estimators': [50, 100],\n",
        "                 'classifier__criterion': [\"gini\", \"entropy\"],\n",
        "                 'classifier__max_depth': [3, 10, 20, None],\n",
        "                 'classifier__min_samples_leaf': randint(1, 9),\n",
        "                 'classifier__min_samples_split': randint(2, 9),\n",
        "                 'classifier__max_features': randint(1, 9)\n",
        "}\n",
        "param_grid_nb = None\n",
        "\n",
        "param_grids = [param_grid_dm, param_grid_lr, param_grid_knn, param_grid_svm, param_grid_dt, param_grid_rf, param_grid_nb]\n",
        "\n",
        "model_names = ['Dummy Model', 'Logistic Regression', 'K Nearest Neighbors', 'Support Vector Machine', 'Decision Tree', 'Random Forest', 'Naive Bayes']\n",
        "cv_names = ['dm_cv', 'lr_cv', 'knn_cv', 'svm_cv', 'dt_cv', 'rf_cv', 'nb_cv']\n",
        "cvs = [None, 5, 5, 5, 5, 5, 5]"
      ],
      "execution_count": 39,
      "outputs": []
    },
    {
      "cell_type": "code",
      "metadata": {
        "colab": {
          "base_uri": "https://localhost:8080/",
          "height": 1000
        },
        "id": "wEib_2cnzQzV",
        "outputId": "58a3f805-d795-4708-9cdb-0322ff061a58"
      },
      "source": [
        "pipeline = Pipeline(steps=[('preprocessor', preprocessor),\n",
        "                 ('classifier', classifier_dm)])\n",
        "dm_cv = train_and_score_model('Dummy Model', pipeline, param_grid_dm)\n",
        "\n",
        "\n",
        "pipeline = Pipeline(steps=[('preprocessor', preprocessor),\n",
        "                     ('classifier', classifier_lr)])\n",
        "lr_cv = train_and_score_model('Logistic Regression', pipeline, param_grid_lr)\n",
        "\n",
        "\n",
        "pipeline = Pipeline(steps=[('preprocessor', preprocessor),\n",
        "                     ('classifier', classifier_knn)])\n",
        "knn_cv = train_and_score_model('K Nearest Neighbors', pipeline, param_grid_knn)\n",
        "\n",
        "\n",
        "pipeline = Pipeline(steps=[('preprocessor', preprocessor),\n",
        "                     ('classifier', classifier_svm)])\n",
        "svm_cv = train_and_score_model('Support Vector Machine', pipeline, param_grid_svm)\n",
        "\n",
        "\n",
        "pipeline = Pipeline(steps=[('preprocessor', preprocessor),\n",
        "                     ('classifier', classifier_dt)])\n",
        "dt_cv = train_and_score_model('Decision Tree', pipeline, param_grid_dt)\n",
        "\n",
        "\n",
        "pipeline = Pipeline(steps=[('preprocessor', preprocessor),\n",
        "                     ('classifier', classifier_rf)])\n",
        "rf_cv = train_and_score_model('Random Forest', pipeline, param_grid_rf)\n",
        "\n",
        "\n",
        "pipeline = Pipeline(steps=[('preprocessor', preprocessor),\n",
        "                     ('classifier', classifier_nb)])\n",
        "\n",
        "nb_cv = train_and_score_model(\"Naive Bayes\", pipeline, param_grid_nb)"
      ],
      "execution_count": 40,
      "outputs": [
        {
          "output_type": "stream",
          "text": [
            "It takes 0.202 seconds for Dummy Model fitting\n",
            "Accuracy with Dummy Modelon the testing set is: 0.624\n",
            "PREDICTION    Not Retained  Retained  Total\n",
            "TRUE                                       \n",
            "Not Retained          9359         0   9359\n",
            "Retained              5641         0   5641\n",
            "Total                15000         0  15000\n"
          ],
          "name": "stdout"
        },
        {
          "output_type": "stream",
          "text": [
            "/usr/local/lib/python3.7/dist-packages/sklearn/metrics/_classification.py:1272: UndefinedMetricWarning: Precision is ill-defined and being set to 0.0 due to no predicted samples. Use `zero_division` parameter to control this behavior.\n",
            "  _warn_prf(average, modifier, msg_start, len(result))\n",
            "/usr/local/lib/python3.7/dist-packages/sklearn/metrics/_classification.py:1272: UndefinedMetricWarning: Precision and F-score are ill-defined and being set to 0.0 in labels with no predicted samples. Use `zero_division` parameter to control this behavior.\n",
            "  _warn_prf(average, modifier, msg_start, len(result))\n"
          ],
          "name": "stderr"
        },
        {
          "output_type": "stream",
          "text": [
            "              precision    recall  f1-score   support\n",
            "\n",
            "           0       0.62      1.00      0.77      9359\n",
            "           1       0.00      0.00      0.00      5641\n",
            "\n",
            "    accuracy                           0.62     15000\n",
            "   macro avg       0.31      0.50      0.38     15000\n",
            "weighted avg       0.39      0.62      0.48     15000\n",
            "\n"
          ],
          "name": "stdout"
        },
        {
          "output_type": "display_data",
          "data": {
            "image/png": "[encoded data removed]",
            "text/plain": [
              "<Figure size 432x288 with 1 Axes>"
            ]
          },
          "metadata": {
            "tags": [],
            "needs_background": "light"
          }
        },
        {
          "output_type": "stream",
          "text": [
            "/usr/local/lib/python3.7/dist-packages/sklearn/model_selection/_search.py:823: FutureWarning: The parameter 'iid' is deprecated in 0.22 and will be removed in 0.24.\n",
            "  \"removed in 0.24.\", FutureWarning\n"
          ],
          "name": "stderr"
        },
        {
          "output_type": "stream",
          "text": [
            "It takes 81.735 seconds for Logistic Regression fitting\n",
            "Accuracy with Logistic Regressionon the testing set is: 0.716\n",
            "PREDICTION    Not Retained  Retained  Total\n",
            "TRUE                                       \n",
            "Not Retained          7984      1375   9359\n",
            "Retained              2880      2761   5641\n",
            "Total                10864      4136  15000\n",
            "              precision    recall  f1-score   support\n",
            "\n",
            "           0       0.73      0.85      0.79      9359\n",
            "           1       0.67      0.49      0.56      5641\n",
            "\n",
            "    accuracy                           0.72     15000\n",
            "   macro avg       0.70      0.67      0.68     15000\n",
            "weighted avg       0.71      0.72      0.71     15000\n",
            "\n"
          ],
          "name": "stdout"
        },
        {
          "output_type": "display_data",
          "data": {
            "image/png": "[encoded data removed]",
            "text/plain": [
              "<Figure size 432x288 with 1 Axes>"
            ]
          },
          "metadata": {
            "tags": [],
            "needs_background": "light"
          }
        },
        {
          "output_type": "stream",
          "text": [
            "/usr/local/lib/python3.7/dist-packages/sklearn/model_selection/_search.py:823: FutureWarning: The parameter 'iid' is deprecated in 0.22 and will be removed in 0.24.\n",
            "  \"removed in 0.24.\", FutureWarning\n"
          ],
          "name": "stderr"
        },
        {
          "output_type": "stream",
          "text": [
            "It takes 119.825 seconds for K Nearest Neighbors fitting\n",
            "Accuracy with K Nearest Neighborson the testing set is: 0.754\n",
            "PREDICTION    Not Retained  Retained  Total\n",
            "TRUE                                       \n",
            "Not Retained          7971      1388   9359\n",
            "Retained              2306      3335   5641\n",
            "Total                10277      4723  15000\n",
            "              precision    recall  f1-score   support\n",
            "\n",
            "           0       0.78      0.85      0.81      9359\n",
            "           1       0.71      0.59      0.64      5641\n",
            "\n",
            "    accuracy                           0.75     15000\n",
            "   macro avg       0.74      0.72      0.73     15000\n",
            "weighted avg       0.75      0.75      0.75     15000\n",
            "\n"
          ],
          "name": "stdout"
        },
        {
          "output_type": "display_data",
          "data": {
            "image/png": "[encoded data removed]",
            "text/plain": [
              "<Figure size 432x288 with 1 Axes>"
            ]
          },
          "metadata": {
            "tags": [],
            "needs_background": "light"
          }
        },
        {
          "output_type": "stream",
          "text": [
            "/usr/local/lib/python3.7/dist-packages/sklearn/model_selection/_search.py:823: FutureWarning: The parameter 'iid' is deprecated in 0.22 and will be removed in 0.24.\n",
            "  \"removed in 0.24.\", FutureWarning\n"
          ],
          "name": "stderr"
        },
        {
          "output_type": "stream",
          "text": [
            "It takes 5525.542 seconds for Support Vector Machine fitting\n",
            "Accuracy with Support Vector Machineon the testing set is: 0.765\n",
            "PREDICTION    Not Retained  Retained  Total\n",
            "TRUE                                       \n",
            "Not Retained          8028      1331   9359\n",
            "Retained              2191      3450   5641\n",
            "Total                10219      4781  15000\n",
            "              precision    recall  f1-score   support\n",
            "\n",
            "           0       0.79      0.86      0.82      9359\n",
            "           1       0.72      0.61      0.66      5641\n",
            "\n",
            "    accuracy                           0.77     15000\n",
            "   macro avg       0.75      0.73      0.74     15000\n",
            "weighted avg       0.76      0.77      0.76     15000\n",
            "\n"
          ],
          "name": "stdout"
        },
        {
          "output_type": "stream",
          "text": [
            "/usr/local/lib/python3.7/dist-packages/sklearn/model_selection/_search.py:823: FutureWarning: The parameter 'iid' is deprecated in 0.22 and will be removed in 0.24.\n",
            "  \"removed in 0.24.\", FutureWarning\n"
          ],
          "name": "stderr"
        },
        {
          "output_type": "stream",
          "text": [
            "It takes 11.100 seconds for Decision Tree fitting\n",
            "Accuracy with Decision Treeon the testing set is: 0.763\n",
            "PREDICTION    Not Retained  Retained  Total\n",
            "TRUE                                       \n",
            "Not Retained          7850      1509   9359\n",
            "Retained              2048      3593   5641\n",
            "Total                 9898      5102  15000\n",
            "              precision    recall  f1-score   support\n",
            "\n",
            "           0       0.79      0.84      0.82      9359\n",
            "           1       0.70      0.64      0.67      5641\n",
            "\n",
            "    accuracy                           0.76     15000\n",
            "   macro avg       0.75      0.74      0.74     15000\n",
            "weighted avg       0.76      0.76      0.76     15000\n",
            "\n"
          ],
          "name": "stdout"
        },
        {
          "output_type": "display_data",
          "data": {
            "image/png": "[encoded data removed]",
            "text/plain": [
              "<Figure size 432x288 with 1 Axes>"
            ]
          },
          "metadata": {
            "tags": [],
            "needs_background": "light"
          }
        },
        {
          "output_type": "stream",
          "text": [
            "/usr/local/lib/python3.7/dist-packages/sklearn/model_selection/_search.py:823: FutureWarning: The parameter 'iid' is deprecated in 0.22 and will be removed in 0.24.\n",
            "  \"removed in 0.24.\", FutureWarning\n"
          ],
          "name": "stderr"
        },
        {
          "output_type": "stream",
          "text": [
            "It takes 152.036 seconds for Random Forest fitting\n",
            "Accuracy with Random Foreston the testing set is: 0.776\n",
            "PREDICTION    Not Retained  Retained  Total\n",
            "TRUE                                       \n",
            "Not Retained          8013      1346   9359\n",
            "Retained              2007      3634   5641\n",
            "Total                10020      4980  15000\n",
            "              precision    recall  f1-score   support\n",
            "\n",
            "           0       0.80      0.86      0.83      9359\n",
            "           1       0.73      0.64      0.68      5641\n",
            "\n",
            "    accuracy                           0.78     15000\n",
            "   macro avg       0.76      0.75      0.76     15000\n",
            "weighted avg       0.77      0.78      0.77     15000\n",
            "\n"
          ],
          "name": "stdout"
        },
        {
          "output_type": "display_data",
          "data": {
            "image/png": "[encoded data removed]",
            "text/plain": [
              "<Figure size 432x288 with 1 Axes>"
            ]
          },
          "metadata": {
            "tags": [],
            "needs_background": "light"
          }
        },
        {
          "output_type": "stream",
          "text": [
            "It takes 0.219 seconds for Naive Bayes fitting\n",
            "Accuracy with Naive Bayeson the testing set is: 0.692\n",
            "PREDICTION    Not Retained  Retained  Total\n",
            "TRUE                                       \n",
            "Not Retained          6419      2940   9359\n",
            "Retained              1678      3963   5641\n",
            "Total                 8097      6903  15000\n",
            "              precision    recall  f1-score   support\n",
            "\n",
            "           0       0.79      0.69      0.74      9359\n",
            "           1       0.57      0.70      0.63      5641\n",
            "\n",
            "    accuracy                           0.69     15000\n",
            "   macro avg       0.68      0.69      0.68     15000\n",
            "weighted avg       0.71      0.69      0.70     15000\n",
            "\n"
          ],
          "name": "stdout"
        },
        {
          "output_type": "display_data",
          "data": {
            "image/png": "[encoded data removed]",
            "text/plain": [
              "<Figure size 432x288 with 1 Axes>"
            ]
          },
          "metadata": {
            "tags": [],
            "needs_background": "light"
          }
        }
      ]
    },
    {
      "cell_type": "code",
      "metadata": {
        "colab": {
          "base_uri": "https://localhost:8080/",
          "height": 192
        },
        "id": "ECjq_jVfzTPy",
        "outputId": "06e0c256-e0dd-4b30-8761-3e525b583647"
      },
      "source": [
        "from pandas.plotting import table\n",
        "metrics.astype(float).round(3)\n",
        "actual_metrics = metrics.astype(float).round(3).loc[['accuracy', 'precision', 'recall', 'AUC']]*100\n",
        "actual_metrics"
      ],
      "execution_count": 41,
      "outputs": [
        {
          "output_type": "execute_result",
          "data": {
            "text/html": [
              "<div>\n",
              "<style scoped>\n",
              "    .dataframe tbody tr th:only-of-type {\n",
              "        vertical-align: middle;\n",
              "    }\n",
              "\n",
              "    .dataframe tbody tr th {\n",
              "        vertical-align: top;\n",
              "    }\n",
              "\n",
              "    .dataframe thead th {\n",
              "        text-align: right;\n",
              "    }\n",
              "</style>\n",
              "<table border=\"1\" class=\"dataframe\">\n",
              "  <thead>\n",
              "    <tr style=\"text-align: right;\">\n",
              "      <th></th>\n",
              "      <th>Dummy Model</th>\n",
              "      <th>Logistic Regression</th>\n",
              "      <th>K Nearest Neighbors</th>\n",
              "      <th>Support Vector Machine</th>\n",
              "      <th>Decision Tree</th>\n",
              "      <th>Random Forest</th>\n",
              "      <th>Naive Bayes</th>\n",
              "    </tr>\n",
              "  </thead>\n",
              "  <tbody>\n",
              "    <tr>\n",
              "      <th>accuracy</th>\n",
              "      <td>62.4</td>\n",
              "      <td>71.6</td>\n",
              "      <td>75.4</td>\n",
              "      <td>76.5</td>\n",
              "      <td>76.3</td>\n",
              "      <td>77.6</td>\n",
              "      <td>69.2</td>\n",
              "    </tr>\n",
              "    <tr>\n",
              "      <th>precision</th>\n",
              "      <td>0.0</td>\n",
              "      <td>66.8</td>\n",
              "      <td>70.6</td>\n",
              "      <td>72.2</td>\n",
              "      <td>70.4</td>\n",
              "      <td>73.0</td>\n",
              "      <td>57.4</td>\n",
              "    </tr>\n",
              "    <tr>\n",
              "      <th>recall</th>\n",
              "      <td>0.0</td>\n",
              "      <td>48.9</td>\n",
              "      <td>59.1</td>\n",
              "      <td>61.2</td>\n",
              "      <td>63.7</td>\n",
              "      <td>64.4</td>\n",
              "      <td>70.3</td>\n",
              "    </tr>\n",
              "    <tr>\n",
              "      <th>AUC</th>\n",
              "      <td>50.0</td>\n",
              "      <td>75.7</td>\n",
              "      <td>80.6</td>\n",
              "      <td>NaN</td>\n",
              "      <td>81.4</td>\n",
              "      <td>84.7</td>\n",
              "      <td>76.1</td>\n",
              "    </tr>\n",
              "  </tbody>\n",
              "</table>\n",
              "</div>"
            ],
            "text/plain": [
              "           Dummy Model  Logistic Regression  ...  Random Forest  Naive Bayes\n",
              "accuracy          62.4                 71.6  ...           77.6         69.2\n",
              "precision          0.0                 66.8  ...           73.0         57.4\n",
              "recall             0.0                 48.9  ...           64.4         70.3\n",
              "AUC               50.0                 75.7  ...           84.7         76.1\n",
              "\n",
              "[4 rows x 7 columns]"
            ]
          },
          "metadata": {
            "tags": []
          },
          "execution_count": 41
        }
      ]
    },
    {
      "cell_type": "code",
      "metadata": {
        "colab": {
          "base_uri": "https://localhost:8080/",
          "height": 556
        },
        "id": "lpM-v88wzWR8",
        "outputId": "d8ab5315-0f42-40c4-f1cc-c994dcbd0f90"
      },
      "source": [
        "fig, ax = plt.subplots(figsize=(16,10))\n",
        "actual_metrics.plot(kind='barh', ax=ax)\n",
        "ax.set_xlabel('Percentage')\n",
        "ax.set_title('Comparing the 6 Models')\n",
        "ax.grid();"
      ],
      "execution_count": 42,
      "outputs": [
        {
          "output_type": "display_data",
          "data": {
            "image/png": "[encoded data removed]",
            "text/plain": [
              "<Figure size 1152x720 with 1 Axes>"
            ]
          },
          "metadata": {
            "tags": [],
            "needs_background": "light"
          }
        }
      ]
    },
    {
      "cell_type": "code",
      "metadata": {
        "colab": {
          "base_uri": "https://localhost:8080/",
          "height": 565
        },
        "id": "wqz7HM5KzZqj",
        "outputId": "310bb5f0-0514-42fc-f065-1c6f8707a29c"
      },
      "source": [
        "precision_lr, recall_lr, thresholds_lr = precision_recall_curve(y_true=y_test, probas_pred=lr_cv.predict_proba(X_test)[:,1])\n",
        "precision_knn, recall_knn, thresholds_knn = precision_recall_curve(y_true=y_test, probas_pred=knn_cv.predict_proba(X_test)[:,1])\n",
        "#precision_svm, recall_svm, thresholds_svm = precision_recall_curve(y_true=y_test, probas_pred=svm.predict_proba(X_test)[:,1])\n",
        "precision_dt, recall_dt, thresholds_dt = precision_recall_curve(y_true=y_test, probas_pred=dt_cv.predict_proba(X_test)[:,1])\n",
        "precision_rf, recall_rf, thresholds_rf = precision_recall_curve(y_true=y_test, probas_pred=rf_cv.predict_proba(X_test)[:,1])\n",
        "precision_nb, recall_nb, thresholds_nb = precision_recall_curve(y_true=y_test, probas_pred=nb_cv.predict_proba(X_test)[:,1])\n",
        "\n",
        "fig, ax = plt.subplots(figsize=(16,10))\n",
        "ax.plot(precision_lr, recall_lr, label='Logistic Regression')\n",
        "ax.plot(precision_knn, recall_knn, label='KNN')\n",
        "ax.plot(precision_dt, recall_dt, label='Decision Tree')\n",
        "ax.plot(precision_rf, recall_rf, label='Random Forest')\n",
        "ax.plot(precision_nb, recall_nb, label='Naive Bayes')\n",
        "ax.set_xlabel('Precision')\n",
        "ax.set_ylabel('Recall')\n",
        "ax.set_title('Precision-Recall Curve')\n",
        "ax.hlines(y=0.5, xmin=0, xmax=1, color='red')\n",
        "ax.legend()\n",
        "ax.grid();"
      ],
      "execution_count": 43,
      "outputs": [
        {
          "output_type": "display_data",
          "data": {
            "image/png": "[encoded data removed]",
            "text/plain": [
              "<Figure size 1152x720 with 1 Axes>"
            ]
          },
          "metadata": {
            "tags": [],
            "needs_background": "light"
          }
        }
      ]
    },
    {
      "cell_type": "code",
      "metadata": {
        "colab": {
          "base_uri": "https://localhost:8080/"
        },
        "id": "mc9npmlKzbM4",
        "outputId": "5457616f-2f51-457e-8736-a842cc1e81f4"
      },
      "source": [
        "rf_cv.best_params_"
      ],
      "execution_count": 44,
      "outputs": [
        {
          "output_type": "execute_result",
          "data": {
            "text/plain": [
              "{'classifier__criterion': 'gini',\n",
              " 'classifier__max_depth': 20,\n",
              " 'classifier__max_features': 5,\n",
              " 'classifier__min_samples_leaf': 7,\n",
              " 'classifier__min_samples_split': 7,\n",
              " 'classifier__n_estimators': 50,\n",
              " 'preprocessor__num__imputer__strategy': 'mean'}"
            ]
          },
          "metadata": {
            "tags": []
          },
          "execution_count": 44
        }
      ]
    },
    {
      "cell_type": "code",
      "metadata": {
        "id": "we580xD5YeQm"
      },
      "source": [
        "rf_model = rf_cv.best_estimator_\n"
      ],
      "execution_count": 45,
      "outputs": []
    },
    {
      "cell_type": "code",
      "metadata": {
        "colab": {
          "base_uri": "https://localhost:8080/"
        },
        "id": "NqiWAUqUYje4",
        "outputId": "c6a0c9a4-fff5-4e89-809f-0e490ef39844"
      },
      "source": [
        "rf_model.named_steps['classifier'].feature_importances_"
      ],
      "execution_count": 46,
      "outputs": [
        {
          "output_type": "execute_result",
          "data": {
            "text/plain": [
              "array([0.06144927, 0.06322304, 0.04175489, 0.06109893, 0.11709574,\n",
              "       0.04875055, 0.1202273 , 0.09474994, 0.17843249, 0.02138   ,\n",
              "       0.10553134, 0.01365112, 0.04407969, 0.00022123, 0.02835447])"
            ]
          },
          "metadata": {
            "tags": []
          },
          "execution_count": 46
        }
      ]
    },
    {
      "cell_type": "code",
      "metadata": {
        "colab": {
          "base_uri": "https://localhost:8080/"
        },
        "id": "cTaLz3diYlWS",
        "outputId": "9dff8ba8-43a0-4501-fbce-895fa1dbd138"
      },
      "source": [
        "df.info()"
      ],
      "execution_count": 47,
      "outputs": [
        {
          "output_type": "stream",
          "text": [
            "<class 'pandas.core.frame.DataFrame'>\n",
            "RangeIndex: 50000 entries, 0 to 49999\n",
            "Data columns (total 13 columns):\n",
            " #   Column                  Non-Null Count  Dtype  \n",
            "---  ------                  --------------  -----  \n",
            " 0   city                    50000 non-null  object \n",
            " 1   trips_in_first_30_days  50000 non-null  int64  \n",
            " 2   signup_date             50000 non-null  int64  \n",
            " 3   avg_rating_of_driver    41878 non-null  float64\n",
            " 4   avg_surge               50000 non-null  float64\n",
            " 5   last_trip_date          50000 non-null  int64  \n",
            " 6   phone                   50000 non-null  object \n",
            " 7   surge_pct               50000 non-null  float64\n",
            " 8   ultimate_black_user     50000 non-null  bool   \n",
            " 9   weekday_pct             50000 non-null  float64\n",
            " 10  avg_dist                50000 non-null  float64\n",
            " 11  avg_rating_by_driver    49799 non-null  float64\n",
            " 12  was_retained            50000 non-null  int64  \n",
            "dtypes: bool(1), float64(6), int64(4), object(2)\n",
            "memory usage: 4.6+ MB\n"
          ],
          "name": "stdout"
        }
      ]
    },
    {
      "cell_type": "code",
      "metadata": {
        "colab": {
          "base_uri": "https://localhost:8080/",
          "height": 320
        },
        "id": "0GyZzGe_YsyL",
        "outputId": "a4efaa2b-9eb3-41cf-d1e6-cde43b875a59"
      },
      "source": [
        "df.describe()"
      ],
      "execution_count": 48,
      "outputs": [
        {
          "output_type": "execute_result",
          "data": {
            "text/html": [
              "<div>\n",
              "<style scoped>\n",
              "    .dataframe tbody tr th:only-of-type {\n",
              "        vertical-align: middle;\n",
              "    }\n",
              "\n",
              "    .dataframe tbody tr th {\n",
              "        vertical-align: top;\n",
              "    }\n",
              "\n",
              "    .dataframe thead th {\n",
              "        text-align: right;\n",
              "    }\n",
              "</style>\n",
              "<table border=\"1\" class=\"dataframe\">\n",
              "  <thead>\n",
              "    <tr style=\"text-align: right;\">\n",
              "      <th></th>\n",
              "      <th>trips_in_first_30_days</th>\n",
              "      <th>signup_date</th>\n",
              "      <th>avg_rating_of_driver</th>\n",
              "      <th>avg_surge</th>\n",
              "      <th>last_trip_date</th>\n",
              "      <th>surge_pct</th>\n",
              "      <th>weekday_pct</th>\n",
              "      <th>avg_dist</th>\n",
              "      <th>avg_rating_by_driver</th>\n",
              "      <th>was_retained</th>\n",
              "    </tr>\n",
              "  </thead>\n",
              "  <tbody>\n",
              "    <tr>\n",
              "      <th>count</th>\n",
              "      <td>50000.000000</td>\n",
              "      <td>50000.00000</td>\n",
              "      <td>41878.000000</td>\n",
              "      <td>50000.000000</td>\n",
              "      <td>50000.000000</td>\n",
              "      <td>50000.000000</td>\n",
              "      <td>50000.000000</td>\n",
              "      <td>50000.000000</td>\n",
              "      <td>49799.000000</td>\n",
              "      <td>50000.000000</td>\n",
              "    </tr>\n",
              "    <tr>\n",
              "      <th>mean</th>\n",
              "      <td>2.278200</td>\n",
              "      <td>16.54468</td>\n",
              "      <td>4.601559</td>\n",
              "      <td>1.074764</td>\n",
              "      <td>109.334780</td>\n",
              "      <td>8.849536</td>\n",
              "      <td>60.926084</td>\n",
              "      <td>5.796827</td>\n",
              "      <td>4.778158</td>\n",
              "      <td>0.376080</td>\n",
              "    </tr>\n",
              "    <tr>\n",
              "      <th>std</th>\n",
              "      <td>3.792684</td>\n",
              "      <td>8.75422</td>\n",
              "      <td>0.617338</td>\n",
              "      <td>0.222336</td>\n",
              "      <td>61.718985</td>\n",
              "      <td>19.958811</td>\n",
              "      <td>37.081503</td>\n",
              "      <td>5.707357</td>\n",
              "      <td>0.446652</td>\n",
              "      <td>0.484405</td>\n",
              "    </tr>\n",
              "    <tr>\n",
              "      <th>min</th>\n",
              "      <td>0.000000</td>\n",
              "      <td>1.00000</td>\n",
              "      <td>1.000000</td>\n",
              "      <td>1.000000</td>\n",
              "      <td>1.000000</td>\n",
              "      <td>0.000000</td>\n",
              "      <td>0.000000</td>\n",
              "      <td>0.000000</td>\n",
              "      <td>1.000000</td>\n",
              "      <td>0.000000</td>\n",
              "    </tr>\n",
              "    <tr>\n",
              "      <th>25%</th>\n",
              "      <td>0.000000</td>\n",
              "      <td>9.00000</td>\n",
              "      <td>4.300000</td>\n",
              "      <td>1.000000</td>\n",
              "      <td>45.000000</td>\n",
              "      <td>0.000000</td>\n",
              "      <td>33.300000</td>\n",
              "      <td>2.420000</td>\n",
              "      <td>4.700000</td>\n",
              "      <td>0.000000</td>\n",
              "    </tr>\n",
              "    <tr>\n",
              "      <th>50%</th>\n",
              "      <td>1.000000</td>\n",
              "      <td>17.00000</td>\n",
              "      <td>4.900000</td>\n",
              "      <td>1.000000</td>\n",
              "      <td>128.000000</td>\n",
              "      <td>0.000000</td>\n",
              "      <td>66.700000</td>\n",
              "      <td>3.880000</td>\n",
              "      <td>5.000000</td>\n",
              "      <td>0.000000</td>\n",
              "    </tr>\n",
              "    <tr>\n",
              "      <th>75%</th>\n",
              "      <td>3.000000</td>\n",
              "      <td>24.00000</td>\n",
              "      <td>5.000000</td>\n",
              "      <td>1.050000</td>\n",
              "      <td>169.000000</td>\n",
              "      <td>8.600000</td>\n",
              "      <td>100.000000</td>\n",
              "      <td>6.940000</td>\n",
              "      <td>5.000000</td>\n",
              "      <td>1.000000</td>\n",
              "    </tr>\n",
              "    <tr>\n",
              "      <th>max</th>\n",
              "      <td>125.000000</td>\n",
              "      <td>31.00000</td>\n",
              "      <td>5.000000</td>\n",
              "      <td>8.000000</td>\n",
              "      <td>182.000000</td>\n",
              "      <td>100.000000</td>\n",
              "      <td>100.000000</td>\n",
              "      <td>160.960000</td>\n",
              "      <td>5.000000</td>\n",
              "      <td>1.000000</td>\n",
              "    </tr>\n",
              "  </tbody>\n",
              "</table>\n",
              "</div>"
            ],
            "text/plain": [
              "       trips_in_first_30_days  signup_date  ...  avg_rating_by_driver  was_retained\n",
              "count            50000.000000  50000.00000  ...          49799.000000  50000.000000\n",
              "mean                 2.278200     16.54468  ...              4.778158      0.376080\n",
              "std                  3.792684      8.75422  ...              0.446652      0.484405\n",
              "min                  0.000000      1.00000  ...              1.000000      0.000000\n",
              "25%                  0.000000      9.00000  ...              4.700000      0.000000\n",
              "50%                  1.000000     17.00000  ...              5.000000      0.000000\n",
              "75%                  3.000000     24.00000  ...              5.000000      1.000000\n",
              "max                125.000000     31.00000  ...              5.000000      1.000000\n",
              "\n",
              "[8 rows x 10 columns]"
            ]
          },
          "metadata": {
            "tags": []
          },
          "execution_count": 48
        }
      ]
    },
    {
      "cell_type": "code",
      "metadata": {
        "id": "nHViEBIVYtjv"
      },
      "source": [
        "with open('/content/drive/MyDrive/ultimate_tech_takehome/ultimate_data_challenge.json') as f:\n",
        "    data = json.load(f)\n",
        "df = pd.DataFrame(data)\n",
        "\n",
        "df['was_retained'] = (df.last_trip_date >= '2014-06-01')*1\n",
        "df.last_trip_date = pd.to_datetime(df.last_trip_date)\n",
        "df.signup_date = pd.to_datetime(df.signup_date)\n",
        "df['signup_date'] = df['signup_date'].dt.strftime('%Y%m%d').astype(int) - 20140100\n",
        "df['last_trip_date'] = (df['last_trip_date'] - min(df['last_trip_date'])).dt.days + 1 \n",
        "\n",
        "df.phone.fillna('Other', inplace=True)\n",
        "df['city'] = df['city'].astype('category')\n",
        "df['phone'] = df['phone'].astype('category')\n",
        "df = pd.get_dummies(df)"
      ],
      "execution_count": 52,
      "outputs": []
    },
    {
      "cell_type": "code",
      "metadata": {
        "id": "j-7uULTlYwBI"
      },
      "source": [
        "# Imputation\n",
        "df.avg_rating_by_driver.fillna(df.avg_rating_by_driver.mean(),inplace=True)\n",
        "df.avg_rating_of_driver.fillna(df.avg_rating_of_driver.mean(),inplace=True)"
      ],
      "execution_count": 53,
      "outputs": []
    },
    {
      "cell_type": "code",
      "metadata": {
        "id": "bPGCJEv0Yx-E"
      },
      "source": [
        "X = df.drop(['was_retained', 'last_trip_date'], axis=1)\n",
        "y = df['was_retained']\n",
        "\n",
        "X_train, X_test, y_train, y_test = train_test_split(X, y, test_size=0.3, random_state=0, stratify=y)"
      ],
      "execution_count": 54,
      "outputs": []
    },
    {
      "cell_type": "code",
      "metadata": {
        "id": "z8N-gD7YYz2x"
      },
      "source": [
        "classifier_rf = RandomForestClassifier(random_state=0, criterion='gini', max_depth=20, \n",
        "                                       max_features=4, min_samples_leaf=7, min_samples_split=5, n_estimators=100)"
      ],
      "execution_count": 55,
      "outputs": []
    },
    {
      "cell_type": "code",
      "metadata": {
        "id": "AegFeZrvY1Wp",
        "colab": {
          "base_uri": "https://localhost:8080/",
          "height": 589
        },
        "outputId": "b3a8d080-2462-44c3-a63d-5734bacc916a"
      },
      "source": [
        "t0 = time.time()\n",
        "classifier_rf.fit(X_train, y_train)\n",
        "ttt = time.time() - t0\n",
        "print(\"It takes %.3f seconds for %s fitting\" % (ttt, 'Random Forest'))\n",
        "\n",
        "y_pred = classifier_rf.predict(X_test)\n",
        "\n",
        "print(\"Accuracy with \" + 'Random Forest' + \"on the testing set is: %.3f\" % classifier_rf.score(X_test, y_test))\n",
        "    \n",
        "y_pred_prob = classifier_rf.predict_proba(X_test)[:,1]\n",
        "print(\"ROC AUC score is: %.3f\" %roc_auc_score(y_test, y_pred_prob))\n",
        "\n",
        "print(Conf_Matrix(confusion_matrix(y_test, y_pred)))\n",
        "print(classification_report(y_test, y_pred))\n",
        "\n",
        "\n",
        "fpr, tpr, thresholds  = roc_curve(y_test, y_pred_prob)\n",
        "plt.plot([0,1], [0,1], 'k--')\n",
        "plt.plot(fpr, tpr, label='Random Forest')\n",
        "plt.xlabel('False Positive Rate')\n",
        "plt.ylabel('True Positive Rate')\n",
        "plt.title('%s ROC Curve' % 'Random Forest')\n",
        "plt.show()"
      ],
      "execution_count": 56,
      "outputs": [
        {
          "output_type": "stream",
          "text": [
            "It takes 3.736 seconds for Random Forest fitting\n",
            "Accuracy with Random Foreston the testing set is: 0.778\n",
            "ROC AUC score is: 0.848\n",
            "PREDICTION    Not Retained  Retained  Total\n",
            "TRUE                                       \n",
            "Not Retained          8032      1327   9359\n",
            "Retained              1998      3643   5641\n",
            "Total                10030      4970  15000\n",
            "              precision    recall  f1-score   support\n",
            "\n",
            "           0       0.80      0.86      0.83      9359\n",
            "           1       0.73      0.65      0.69      5641\n",
            "\n",
            "    accuracy                           0.78     15000\n",
            "   macro avg       0.77      0.75      0.76     15000\n",
            "weighted avg       0.78      0.78      0.78     15000\n",
            "\n"
          ],
          "name": "stdout"
        },
        {
          "output_type": "display_data",
          "data": {
            "image/png": "[encoded data removed]",
            "text/plain": [
              "<Figure size 432x288 with 1 Axes>"
            ]
          },
          "metadata": {
            "tags": [],
            "needs_background": "light"
          }
        }
      ]
    },
    {
      "cell_type": "code",
      "metadata": {
        "id": "4ZG2MHqvZBaT",
        "colab": {
          "base_uri": "https://localhost:8080/",
          "height": 520
        },
        "outputId": "a4eef928-cb34-4687-e0c3-7942e62c89f0"
      },
      "source": [
        "pd.DataFrame(classifier_rf.feature_importances_, \n",
        "             index = X_train.columns, columns = ['importance']).sort_values('importance', ascending=False)"
      ],
      "execution_count": 57,
      "outputs": [
        {
          "output_type": "execute_result",
          "data": {
            "text/html": [
              "<div>\n",
              "<style scoped>\n",
              "    .dataframe tbody tr th:only-of-type {\n",
              "        vertical-align: middle;\n",
              "    }\n",
              "\n",
              "    .dataframe tbody tr th {\n",
              "        vertical-align: top;\n",
              "    }\n",
              "\n",
              "    .dataframe thead th {\n",
              "        text-align: right;\n",
              "    }\n",
              "</style>\n",
              "<table border=\"1\" class=\"dataframe\">\n",
              "  <thead>\n",
              "    <tr style=\"text-align: right;\">\n",
              "      <th></th>\n",
              "      <th>importance</th>\n",
              "    </tr>\n",
              "  </thead>\n",
              "  <tbody>\n",
              "    <tr>\n",
              "      <th>avg_rating_by_driver</th>\n",
              "      <td>0.151980</td>\n",
              "    </tr>\n",
              "    <tr>\n",
              "      <th>weekday_pct</th>\n",
              "      <td>0.130413</td>\n",
              "    </tr>\n",
              "    <tr>\n",
              "      <th>surge_pct</th>\n",
              "      <td>0.112422</td>\n",
              "    </tr>\n",
              "    <tr>\n",
              "      <th>city_King's Landing</th>\n",
              "      <td>0.098508</td>\n",
              "    </tr>\n",
              "    <tr>\n",
              "      <th>avg_dist</th>\n",
              "      <td>0.089670</td>\n",
              "    </tr>\n",
              "    <tr>\n",
              "      <th>avg_surge</th>\n",
              "      <td>0.083304</td>\n",
              "    </tr>\n",
              "    <tr>\n",
              "      <th>trips_in_first_30_days</th>\n",
              "      <td>0.062173</td>\n",
              "    </tr>\n",
              "    <tr>\n",
              "      <th>signup_date</th>\n",
              "      <td>0.059697</td>\n",
              "    </tr>\n",
              "    <tr>\n",
              "      <th>ultimate_black_user</th>\n",
              "      <td>0.052550</td>\n",
              "    </tr>\n",
              "    <tr>\n",
              "      <th>avg_rating_of_driver</th>\n",
              "      <td>0.041451</td>\n",
              "    </tr>\n",
              "    <tr>\n",
              "      <th>phone_Android</th>\n",
              "      <td>0.040076</td>\n",
              "    </tr>\n",
              "    <tr>\n",
              "      <th>phone_iPhone</th>\n",
              "      <td>0.033217</td>\n",
              "    </tr>\n",
              "    <tr>\n",
              "      <th>city_Astapor</th>\n",
              "      <td>0.026798</td>\n",
              "    </tr>\n",
              "    <tr>\n",
              "      <th>city_Winterfell</th>\n",
              "      <td>0.017475</td>\n",
              "    </tr>\n",
              "    <tr>\n",
              "      <th>phone_Other</th>\n",
              "      <td>0.000265</td>\n",
              "    </tr>\n",
              "  </tbody>\n",
              "</table>\n",
              "</div>"
            ],
            "text/plain": [
              "                        importance\n",
              "avg_rating_by_driver      0.151980\n",
              "weekday_pct               0.130413\n",
              "surge_pct                 0.112422\n",
              "city_King's Landing       0.098508\n",
              "avg_dist                  0.089670\n",
              "avg_surge                 0.083304\n",
              "trips_in_first_30_days    0.062173\n",
              "signup_date               0.059697\n",
              "ultimate_black_user       0.052550\n",
              "avg_rating_of_driver      0.041451\n",
              "phone_Android             0.040076\n",
              "phone_iPhone              0.033217\n",
              "city_Astapor              0.026798\n",
              "city_Winterfell           0.017475\n",
              "phone_Other               0.000265"
            ]
          },
          "metadata": {
            "tags": []
          },
          "execution_count": 57
        }
      ]
    },
    {
      "cell_type": "code",
      "metadata": {
        "id": "QFcASFyzZD5I",
        "colab": {
          "base_uri": "https://localhost:8080/",
          "height": 69
        },
        "outputId": "285812a3-48be-457c-d48c-68f70e55715b"
      },
      "source": [
        "\n",
        "display(df['avg_rating_by_driver'].corr(df['was_retained']))\n",
        "display(df['surge_pct'].corr(df['was_retained']))\n",
        "display(df['weekday_pct'].corr(df['was_retained']))"
      ],
      "execution_count": 58,
      "outputs": [
        {
          "output_type": "display_data",
          "data": {
            "text/plain": [
              "-0.02674804280606978"
            ]
          },
          "metadata": {
            "tags": []
          }
        },
        {
          "output_type": "display_data",
          "data": {
            "text/plain": [
              "0.011796748066780126"
            ]
          },
          "metadata": {
            "tags": []
          }
        },
        {
          "output_type": "display_data",
          "data": {
            "text/plain": [
              "0.009692972843291884"
            ]
          },
          "metadata": {
            "tags": []
          }
        }
      ]
    },
    {
      "cell_type": "code",
      "metadata": {
        "id": "vCAO_3yLZFwi",
        "colab": {
          "base_uri": "https://localhost:8080/",
          "height": 441
        },
        "outputId": "7b23fc5f-b316-4440-f324-d06f8c15b747"
      },
      "source": [
        "g = sns.FacetGrid(df, row='was_retained')\n",
        "g = g.map(plt.hist, \"avg_rating_by_driver\")"
      ],
      "execution_count": 59,
      "outputs": [
        {
          "output_type": "display_data",
          "data": {
            "image/png": "[encoded data removed]",
            "text/plain": [
              "<Figure size 216x432 with 2 Axes>"
            ]
          },
          "metadata": {
            "tags": [],
            "needs_background": "light"
          }
        }
      ]
    },
    {
      "cell_type": "code",
      "metadata": {
        "id": "CFkfRoSFZIm-",
        "colab": {
          "base_uri": "https://localhost:8080/",
          "height": 441
        },
        "outputId": "d795c9b3-aad9-4000-9b38-42d29eaae6d9"
      },
      "source": [
        "g = sns.FacetGrid(df, row='was_retained')\n",
        "g = g.map(plt.hist, \"surge_pct\")"
      ],
      "execution_count": 60,
      "outputs": [
        {
          "output_type": "display_data",
          "data": {
            "image/png": "[encoded data removed]",
            "text/plain": [
              "<Figure size 216x432 with 2 Axes>"
            ]
          },
          "metadata": {
            "tags": [],
            "needs_background": "light"
          }
        }
      ]
    },
    {
      "cell_type": "code",
      "metadata": {
        "id": "g_sbrosPZKLl",
        "colab": {
          "base_uri": "https://localhost:8080/",
          "height": 441
        },
        "outputId": "8b6d91eb-22e6-47de-a8c2-4465a7c591c6"
      },
      "source": [
        "g = sns.FacetGrid(df, row='was_retained')\n",
        "g = g.map(plt.hist, \"weekday_pct\")"
      ],
      "execution_count": 61,
      "outputs": [
        {
          "output_type": "display_data",
          "data": {
            "image/png": "[encoded data removed]",
            "text/plain": [
              "<Figure size 216x432 with 2 Axes>"
            ]
          },
          "metadata": {
            "tags": [],
            "needs_background": "light"
          }
        }
      ]
    },
    {
      "cell_type": "code",
      "metadata": {
        "id": "lzQBBlt8ZMD3"
      },
      "source": [
        ""
      ],
      "execution_count": null,
      "outputs": []
    }
  ]
}